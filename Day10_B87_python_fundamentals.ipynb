{
 "cells": [
  {
   "cell_type": "code",
   "execution_count": 1,
   "id": "5cc40edb-2cc9-45bd-8979-c0db0ca60eca",
   "metadata": {},
   "outputs": [],
   "source": [
    "def describe_pet(animal_type,pet_name):\n",
    "    \"\"\"describe the information about the pet\"\"\"\n",
    "    print(f\"\\nI have a {animal_type}\")\n",
    "    print(f\"my {animal_type}'s name is {pet_name}\")"
   ]
  },
  {
   "cell_type": "code",
   "execution_count": 2,
   "id": "92feadf0-6756-4fb4-a1a1-ed685e96ae0f",
   "metadata": {},
   "outputs": [
    {
     "name": "stdout",
     "output_type": "stream",
     "text": [
      "\n",
      "I have a dog\n",
      "my dog's name is bruno\n"
     ]
    }
   ],
   "source": [
    "describe_pet('dog','bruno')"
   ]
  },
  {
   "cell_type": "code",
   "execution_count": 3,
   "id": "b84eb96c-4b5a-42ad-8026-dbf8e6e0793c",
   "metadata": {},
   "outputs": [
    {
     "ename": "TypeError",
     "evalue": "describe_pet() missing 1 required positional argument: 'pet_name'",
     "output_type": "error",
     "traceback": [
      "\u001b[1;31m---------------------------------------------------------------------------\u001b[0m",
      "\u001b[1;31mTypeError\u001b[0m                                 Traceback (most recent call last)",
      "Cell \u001b[1;32mIn[3], line 1\u001b[0m\n\u001b[1;32m----> 1\u001b[0m describe_pet(\u001b[38;5;124m'\u001b[39m\u001b[38;5;124mrex\u001b[39m\u001b[38;5;124m'\u001b[39m)\n",
      "\u001b[1;31mTypeError\u001b[0m: describe_pet() missing 1 required positional argument: 'pet_name'"
     ]
    }
   ],
   "source": [
    "describe_pet('rex')"
   ]
  },
  {
   "cell_type": "code",
   "execution_count": 4,
   "id": "ef12692e-dc7d-425f-ad16-3edee6ee85c6",
   "metadata": {},
   "outputs": [],
   "source": [
    "# default arguments"
   ]
  },
  {
   "cell_type": "code",
   "execution_count": 5,
   "id": "6fcc0f49-20ac-46d1-a992-1d5d0322f999",
   "metadata": {},
   "outputs": [],
   "source": [
    "def describe_pet(pet_name,animal_type = 'dog'):\n",
    "    \"\"\"describe the information about the pet\"\"\"\n",
    "    print(f\"\\nI have a {animal_type}\")\n",
    "    print(f\"my {animal_type}'s name is {pet_name}\")"
   ]
  },
  {
   "cell_type": "code",
   "execution_count": 6,
   "id": "cf968043-7819-462e-b2e2-02d71fc2f23c",
   "metadata": {},
   "outputs": [
    {
     "name": "stdout",
     "output_type": "stream",
     "text": [
      "\n",
      "I have a dog\n",
      "my dog's name is rex\n"
     ]
    }
   ],
   "source": [
    "describe_pet('rex')"
   ]
  },
  {
   "cell_type": "code",
   "execution_count": 7,
   "id": "496ce41f-b1a0-40f7-9558-970cc6026eb4",
   "metadata": {},
   "outputs": [
    {
     "name": "stdout",
     "output_type": "stream",
     "text": [
      "\n",
      "I have a cat\n",
      "my cat's name is bruno\n"
     ]
    }
   ],
   "source": [
    "describe_pet('bruno','cat')"
   ]
  },
  {
   "cell_type": "code",
   "execution_count": null,
   "id": "e16ac80b-0215-4b33-ae23-5281163e1d08",
   "metadata": {},
   "outputs": [],
   "source": []
  },
  {
   "cell_type": "code",
   "execution_count": null,
   "id": "5eb2548f-2007-473a-b513-4c08261ab137",
   "metadata": {},
   "outputs": [],
   "source": [
    "Returning a simple value :"
   ]
  },
  {
   "cell_type": "code",
   "execution_count": 9,
   "id": "3022b517-5ee8-4d24-9115-5f19cf28daea",
   "metadata": {},
   "outputs": [],
   "source": [
    "# req : take a firstname and lastname and return it with a neatly formatted name..."
   ]
  },
  {
   "cell_type": "code",
   "execution_count": 10,
   "id": "37bc2339-f5b1-4042-b11f-7d628b899f8e",
   "metadata": {},
   "outputs": [],
   "source": [
    "def get_formatted_name(first_name,last_name):\n",
    "    \"\"\"return a fullname,neatly formatted\"\"\"\n",
    "    full_name = f\"{first_name} {last_name}\"\n",
    "    return full_name.title()"
   ]
  },
  {
   "cell_type": "code",
   "execution_count": 11,
   "id": "0ff485b3-b35b-4ee6-b8c2-1d93d2268698",
   "metadata": {},
   "outputs": [],
   "source": [
    "person = get_formatted_name('sai','kiran')"
   ]
  },
  {
   "cell_type": "code",
   "execution_count": 12,
   "id": "6b16b7ca-7826-44d5-a0c4-8765dff12f7a",
   "metadata": {},
   "outputs": [
    {
     "name": "stdout",
     "output_type": "stream",
     "text": [
      "Sai Kiran\n"
     ]
    }
   ],
   "source": [
    "print(person)"
   ]
  },
  {
   "cell_type": "code",
   "execution_count": null,
   "id": "51e49dce-1afd-4bc2-b7eb-292c929172fc",
   "metadata": {},
   "outputs": [],
   "source": []
  },
  {
   "cell_type": "code",
   "execution_count": null,
   "id": "87ae16fe-faeb-46a7-b2e2-5b33886875d7",
   "metadata": {},
   "outputs": [],
   "source": [
    "passing Arbitary no of arguments :"
   ]
  },
  {
   "cell_type": "code",
   "execution_count": 14,
   "id": "bea821b1-794e-4f2f-aeab-b5058ed9ee35",
   "metadata": {},
   "outputs": [],
   "source": [
    "#  req :"
   ]
  },
  {
   "cell_type": "code",
   "execution_count": 15,
   "id": "aeb4ff93-d0d2-40ab-90d1-77b3a05b296c",
   "metadata": {},
   "outputs": [],
   "source": [
    "def make_pizza(toppings):\n",
    "    \"\"\"print the list of toppings that has been requested\"\"\"\n",
    "    print(toppings)"
   ]
  },
  {
   "cell_type": "code",
   "execution_count": 16,
   "id": "81f6c40b-1f9b-4369-839f-69a7ba79cf4d",
   "metadata": {},
   "outputs": [
    {
     "name": "stdout",
     "output_type": "stream",
     "text": [
      "olives\n"
     ]
    }
   ],
   "source": [
    "make_pizza('olives')"
   ]
  },
  {
   "cell_type": "code",
   "execution_count": 17,
   "id": "3fd02162-be93-4668-b1f8-3a87bc0476c9",
   "metadata": {},
   "outputs": [
    {
     "ename": "TypeError",
     "evalue": "make_pizza() takes 1 positional argument but 2 were given",
     "output_type": "error",
     "traceback": [
      "\u001b[1;31m---------------------------------------------------------------------------\u001b[0m",
      "\u001b[1;31mTypeError\u001b[0m                                 Traceback (most recent call last)",
      "Cell \u001b[1;32mIn[17], line 1\u001b[0m\n\u001b[1;32m----> 1\u001b[0m make_pizza(\u001b[38;5;124m'\u001b[39m\u001b[38;5;124molives\u001b[39m\u001b[38;5;124m'\u001b[39m,\u001b[38;5;124m'\u001b[39m\u001b[38;5;124mcorn\u001b[39m\u001b[38;5;124m'\u001b[39m)\n",
      "\u001b[1;31mTypeError\u001b[0m: make_pizza() takes 1 positional argument but 2 were given"
     ]
    }
   ],
   "source": [
    "make_pizza('olives','corn')"
   ]
  },
  {
   "cell_type": "code",
   "execution_count": null,
   "id": "c886c16c-3f65-4341-be02-373ac55cb405",
   "metadata": {},
   "outputs": [],
   "source": []
  },
  {
   "cell_type": "code",
   "execution_count": 18,
   "id": "06b49d49-da38-40af-b37c-2a077a15fe1e",
   "metadata": {},
   "outputs": [],
   "source": [
    "def make_pizza(*toppings):\n",
    "    \"\"\"print the list of toppings that has been requested\"\"\"\n",
    "    print(toppings)"
   ]
  },
  {
   "cell_type": "code",
   "execution_count": 19,
   "id": "932c438f-925d-45f5-8753-717f0e7270a0",
   "metadata": {},
   "outputs": [
    {
     "name": "stdout",
     "output_type": "stream",
     "text": [
      "('olives', 'corn')\n"
     ]
    }
   ],
   "source": [
    "make_pizza('olives','corn')"
   ]
  },
  {
   "cell_type": "code",
   "execution_count": 20,
   "id": "de4d245e-0522-4aa5-9ac8-4a69cb702650",
   "metadata": {},
   "outputs": [
    {
     "name": "stdout",
     "output_type": "stream",
     "text": [
      "('olives', 'corn', 'onion')\n"
     ]
    }
   ],
   "source": [
    "make_pizza('olives','corn','onion')"
   ]
  },
  {
   "cell_type": "code",
   "execution_count": 21,
   "id": "bf2cb2b1-e59a-4f28-a972-3a0af9cb531f",
   "metadata": {},
   "outputs": [],
   "source": [
    "def make_pizza(*toppings):\n",
    "    \"\"\"summarize the pizza that i want to make\"\"\"\n",
    "    print(\"\\nmaking the pizza with the below toppings\")\n",
    "    for a in toppings:\n",
    "        print(f\"-{a}\")"
   ]
  },
  {
   "cell_type": "code",
   "execution_count": null,
   "id": "00d606d1-0e02-451a-ae29-178bff4d7de4",
   "metadata": {},
   "outputs": [],
   "source": []
  },
  {
   "cell_type": "code",
   "execution_count": 22,
   "id": "72a2c367-1c50-4f6a-8177-aa6cf3886360",
   "metadata": {},
   "outputs": [
    {
     "name": "stdout",
     "output_type": "stream",
     "text": [
      "\n",
      "making the pizza with the below toppings\n",
      "-olives\n",
      "-corn\n",
      "-onion\n"
     ]
    }
   ],
   "source": [
    "make_pizza('olives','corn','onion')"
   ]
  },
  {
   "cell_type": "code",
   "execution_count": null,
   "id": "2bfc2d9c-eea7-4d9c-8a8b-c2ff74a1d683",
   "metadata": {},
   "outputs": [],
   "source": []
  },
  {
   "cell_type": "code",
   "execution_count": null,
   "id": "4daf0411-eb40-4b05-848b-310d704747c1",
   "metadata": {},
   "outputs": [],
   "source": [
    "mixing positional and Arbitary arguments"
   ]
  },
  {
   "cell_type": "code",
   "execution_count": 24,
   "id": "b334ae06-4fe0-45e2-83f8-aabed64182a7",
   "metadata": {},
   "outputs": [],
   "source": [
    "def make_pizza(size,*toppings):\n",
    "    \"\"\"summarize the pizza that i want to make\"\"\"\n",
    "    print(f\"\\nmaking a {size} inch pizza with the below toppings:\")\n",
    "    for a in toppings:\n",
    "        print(f\"-{a}\")"
   ]
  },
  {
   "cell_type": "code",
   "execution_count": 25,
   "id": "f5639256-9fae-47bb-8b1f-78faad485f68",
   "metadata": {},
   "outputs": [
    {
     "name": "stdout",
     "output_type": "stream",
     "text": [
      "\n",
      "making a 12 inch pizza with the below toppings:\n",
      "-olives\n",
      "-corn\n"
     ]
    }
   ],
   "source": [
    "make_pizza(12,'olives','corn')"
   ]
  },
  {
   "cell_type": "code",
   "execution_count": null,
   "id": "a8e95370-8a83-4b8f-a11e-62a342f2c5af",
   "metadata": {},
   "outputs": [],
   "source": []
  }
 ],
 "metadata": {
  "kernelspec": {
   "display_name": "Python [conda env:base] *",
   "language": "python",
   "name": "conda-base-py"
  },
  "language_info": {
   "codemirror_mode": {
    "name": "ipython",
    "version": 3
   },
   "file_extension": ".py",
   "mimetype": "text/x-python",
   "name": "python",
   "nbconvert_exporter": "python",
   "pygments_lexer": "ipython3",
   "version": "3.13.5"
  }
 },
 "nbformat": 4,
 "nbformat_minor": 5
}
