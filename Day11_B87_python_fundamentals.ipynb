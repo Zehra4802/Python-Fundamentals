{
 "cells": [
  {
   "cell_type": "code",
   "execution_count": null,
   "id": "ef3e432a-4572-4ac8-a40e-4539f81ad009",
   "metadata": {},
   "outputs": [],
   "source": [
    "Introduction to python classes:"
   ]
  },
  {
   "cell_type": "code",
   "execution_count": null,
   "id": "a5692167-f922-4fa9-bac3-800f5b64cc34",
   "metadata": {},
   "outputs": [],
   "source": []
  },
  {
   "cell_type": "code",
   "execution_count": null,
   "id": "dc76a4e8-d398-4217-bd1b-9e8b14e7d511",
   "metadata": {},
   "outputs": [],
   "source": [
    "class ====> class is a high level blue print of the program\n",
    "\n",
    "methods ====> A function written inside the class is called as a method\n",
    "\n",
    "attributes ====> A variable written inside a class is called as an attribute\n",
    "\n",
    "objects/instances ====> is an approach by using which we can be able to acces the class methods\n",
    "\n",
    "self : self is temp placeholder\n",
    "\n",
    "init : It is a special method/magical method"
   ]
  },
  {
   "cell_type": "code",
   "execution_count": null,
   "id": "c538c2e6-532e-4b6e-88eb-163fd57e67d6",
   "metadata": {},
   "outputs": [],
   "source": []
  },
  {
   "cell_type": "code",
   "execution_count": null,
   "id": "fd478e36-73d5-4885-9ec3-79753f540bd4",
   "metadata": {},
   "outputs": [],
   "source": [
    "What are OOPS : object oriented programming :"
   ]
  },
  {
   "cell_type": "code",
   "execution_count": null,
   "id": "ae64ceb5-b16b-4dde-9c09-9b63ad0605c5",
   "metadata": {},
   "outputs": [],
   "source": []
  },
  {
   "cell_type": "code",
   "execution_count": 5,
   "id": "d5476cb5-ab4b-4edd-a1d3-43f5feb0cdd0",
   "metadata": {},
   "outputs": [],
   "source": [
    "# class example : req : design a dog class with its functionalities"
   ]
  },
  {
   "cell_type": "code",
   "execution_count": null,
   "id": "36450b70-7a7a-4deb-8856-2d3fffcafa0d",
   "metadata": {},
   "outputs": [],
   "source": []
  },
  {
   "cell_type": "code",
   "execution_count": 19,
   "id": "7f439897-3de1-479d-8b77-122620dfd4c6",
   "metadata": {},
   "outputs": [],
   "source": [
    "class Dog:\n",
    "    \"\"\"A simple attempt to model the Dog\"\"\"\n",
    "\n",
    "    def __init__(self, name, age):\n",
    "        \"\"\"initialize name and age attributes\"\"\"\n",
    "        self.name = name\n",
    "        self.age = age\n",
    "\n",
    "    def sit(self):\n",
    "        \"\"\"simulate a dog siting in response to a command\"\"\"\n",
    "        print(f\"{self.name} is now sitting\")\n",
    "        \n",
    "    def roll_over(self):\n",
    "        \"\"\"simulate rolling over in response to the command\"\"\"\n",
    "        print(f\"{self.name}rolled over\")"
   ]
  },
  {
   "cell_type": "code",
   "execution_count": 17,
   "id": "6581e5f3-64e9-4f32-ba8d-5c68fe92ca5a",
   "metadata": {},
   "outputs": [],
   "source": [
    "my_dog = Dog('bruno',6)"
   ]
  },
  {
   "cell_type": "code",
   "execution_count": 20,
   "id": "07cf19ce-9a36-400d-9beb-b03fd67bb5f8",
   "metadata": {},
   "outputs": [
    {
     "name": "stdout",
     "output_type": "stream",
     "text": [
      "bruno is now sitting\n"
     ]
    }
   ],
   "source": [
    "my_dog.sit()"
   ]
  },
  {
   "cell_type": "code",
   "execution_count": 22,
   "id": "609c1e5c-28d8-4c40-b823-d6baaa906b2e",
   "metadata": {},
   "outputs": [
    {
     "name": "stdout",
     "output_type": "stream",
     "text": [
      "brunorolled over\n"
     ]
    }
   ],
   "source": [
    "my_dog.roll_over()"
   ]
  },
  {
   "cell_type": "code",
   "execution_count": 23,
   "id": "90b28bbf-82b3-4f22-ab14-2366ec867ef5",
   "metadata": {},
   "outputs": [],
   "source": [
    "test = Dog('rex',3)"
   ]
  },
  {
   "cell_type": "code",
   "execution_count": 24,
   "id": "5e795d60-1230-43b7-92b8-6d4886fa2004",
   "metadata": {},
   "outputs": [
    {
     "name": "stdout",
     "output_type": "stream",
     "text": [
      "rex is now sitting\n"
     ]
    }
   ],
   "source": [
    "test.sit()"
   ]
  },
  {
   "cell_type": "code",
   "execution_count": 25,
   "id": "5b752ff1-2b50-4f63-ba7e-c50bc1c35036",
   "metadata": {},
   "outputs": [
    {
     "name": "stdout",
     "output_type": "stream",
     "text": [
      "rexrolled over\n"
     ]
    }
   ],
   "source": [
    "test.roll_over()"
   ]
  },
  {
   "cell_type": "code",
   "execution_count": null,
   "id": "0e7f53f1-05be-45e9-baed-cd4589e95d2c",
   "metadata": {},
   "outputs": [],
   "source": []
  },
  {
   "cell_type": "code",
   "execution_count": 33,
   "id": "3d9803e7-c9df-45ee-9b1d-c8c4f1a72a02",
   "metadata": {},
   "outputs": [],
   "source": [
    "class car:\n",
    "    \"\"\"A simple attempt to represent a car\"\"\"\n",
    "    def __init__(self, make, model, year):\n",
    "        \"\"\"initialize the attributes to describe the car\"\"\"\n",
    "        self.make = make\n",
    "        self.model = model\n",
    "        self.year = year\n",
    "\n",
    "    def get_descriptive_name(self):\n",
    "        \"\"\"return a neatly formatted descriptive name\"\"\"\n",
    "        long_name = f'{self.make} {self.model} {self.year}'\n",
    "        return long_name.title()\n",
    "    "
   ]
  },
  {
   "cell_type": "code",
   "execution_count": 34,
   "id": "0c5444bd-b1af-4155-be08-3d7992b2bc78",
   "metadata": {},
   "outputs": [],
   "source": [
    "my_new_car = car('audi','a4',2020)"
   ]
  },
  {
   "cell_type": "code",
   "execution_count": 35,
   "id": "1e6952d3-9a10-4d23-a5c1-44fdca7b9429",
   "metadata": {},
   "outputs": [
    {
     "name": "stdout",
     "output_type": "stream",
     "text": [
      "Audi A4 2020\n"
     ]
    }
   ],
   "source": [
    "print(my_new_car.get_descriptive_name())"
   ]
  },
  {
   "cell_type": "code",
   "execution_count": null,
   "id": "1bc905e8-90ff-4069-b9a5-fff08eb96241",
   "metadata": {},
   "outputs": [],
   "source": []
  }
 ],
 "metadata": {
  "kernelspec": {
   "display_name": "Python [conda env:base] *",
   "language": "python",
   "name": "conda-base-py"
  },
  "language_info": {
   "codemirror_mode": {
    "name": "ipython",
    "version": 3
   },
   "file_extension": ".py",
   "mimetype": "text/x-python",
   "name": "python",
   "nbconvert_exporter": "python",
   "pygments_lexer": "ipython3",
   "version": "3.13.5"
  }
 },
 "nbformat": 4,
 "nbformat_minor": 5
}
