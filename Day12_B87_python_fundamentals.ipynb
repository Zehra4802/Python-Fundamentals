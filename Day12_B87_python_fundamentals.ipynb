{
 "cells": [
  {
   "cell_type": "code",
   "execution_count": null,
   "id": "bf9293cb-3d92-452f-b3a1-571685716418",
   "metadata": {},
   "outputs": [],
   "source": [
    "Recap :\n",
    "\n",
    "python fundamentals :\n",
    "\n",
    "1. Introduction to variables\n",
    "\n",
    "2. Rules for declaring the variables in python \n",
    "\n",
    "3. Introduction to Datatypes\n",
    "\n",
    "4. Classification of Datatypes\n",
    "\n",
    "5. Types of Datatypes :\n",
    "\n",
    "    1. strings\n",
    "\n",
    "    2. Numbers\n",
    "\n",
    "    3. lists\n",
    "\n",
    "    4. tuples\n",
    "\n",
    "    5. Dictionaries\n",
    "\n",
    "Introduction to strings\n",
    "\n",
    "String methods\n",
    "\n",
    "f strings\n",
    "\n",
    "introduction to Numbers\n",
    "\n",
    "introduction to list datatypes\n",
    "\n",
    "introduction to tuple datatypes\n",
    "\n",
    "introduction to Dictionaries\n",
    "\n",
    "looping statements :\n",
    "\n",
    "    for loop\n",
    "\n",
    "    while loop is pending need to be discussed\n",
    "\n",
    "    conditional statements ===> completed ===> if else conditions\n",
    "\n",
    "introduction to python functions\n",
    "\n",
    "introduction to python classes (object oriented programming )\n",
    "\n",
    "introduction to exceptional handling"
   ]
  },
  {
   "cell_type": "code",
   "execution_count": null,
   "id": "cbcd9202-ead7-4deb-a8b3-593668a923ba",
   "metadata": {},
   "outputs": [],
   "source": []
  },
  {
   "cell_type": "code",
   "execution_count": null,
   "id": "d8b92031-1aef-441d-ace1-3796560a69a3",
   "metadata": {},
   "outputs": [],
   "source": [
    "introduction to while loop :"
   ]
  },
  {
   "cell_type": "code",
   "execution_count": null,
   "id": "191bcf28-1c7c-48b7-a8d3-df4b662cc328",
   "metadata": {},
   "outputs": [],
   "source": [
    "Defination : A while loop is used to excute a block of statements repeatedly until a given condition is satisfied."
   ]
  },
  {
   "cell_type": "code",
   "execution_count": null,
   "id": "3368dacf-6f1d-4b6c-8799-78b4bc311d92",
   "metadata": {},
   "outputs": [],
   "source": []
  },
  {
   "cell_type": "code",
   "execution_count": 2,
   "id": "46c2ee60-952d-435d-8710-45dbc5e4d4a4",
   "metadata": {},
   "outputs": [
    {
     "name": "stdout",
     "output_type": "stream",
     "text": [
      "Hello world\n",
      "Hello world\n",
      "Hello world\n"
     ]
    }
   ],
   "source": [
    "count = 0\n",
    "\n",
    "while (count < 3):\n",
    "    count = count +1\n",
    "    print(\"Hello world\")"
   ]
  },
  {
   "cell_type": "code",
   "execution_count": 3,
   "id": "a6d20943-9c9d-4fa3-92c3-08b8f02080c0",
   "metadata": {},
   "outputs": [
    {
     "name": "stdout",
     "output_type": "stream",
     "text": [
      "Hello world\n",
      "Hello world\n",
      "Hello world\n",
      "Hello world\n",
      "Hello world\n",
      "Hello world\n"
     ]
    }
   ],
   "source": [
    "count = 0\n",
    "\n",
    "while (count < 6):\n",
    "    count = count +1 # logic implimentation\n",
    "    print(\"Hello world\")"
   ]
  },
  {
   "cell_type": "code",
   "execution_count": null,
   "id": "56dc1974-de51-4a94-a56d-c97764ae507f",
   "metadata": {},
   "outputs": [],
   "source": []
  },
  {
   "cell_type": "code",
   "execution_count": null,
   "id": "7e669a1c-dacc-4efc-bb09-885e59479416",
   "metadata": {},
   "outputs": [],
   "source": [
    "# infinite whileloop in python"
   ]
  },
  {
   "cell_type": "code",
   "execution_count": null,
   "id": "2a056c3f-a836-404f-87b7-4aae52624037",
   "metadata": {},
   "outputs": [],
   "source": [
    "age = 28\n",
    "\n",
    "#while age > 19:\n",
    "    print(\"infinite loop\")"
   ]
  },
  {
   "cell_type": "code",
   "execution_count": null,
   "id": "745e8506-72b8-4beb-988f-97d8591bbba5",
   "metadata": {},
   "outputs": [],
   "source": []
  },
  {
   "cell_type": "code",
   "execution_count": 4,
   "id": "22cac7b7-78f8-4621-8452-422b2faac49c",
   "metadata": {},
   "outputs": [
    {
     "name": "stdout",
     "output_type": "stream",
     "text": [
      "Hello world\n"
     ]
    }
   ],
   "source": [
    "print(\"Hello world\")"
   ]
  },
  {
   "cell_type": "code",
   "execution_count": null,
   "id": "613e55f8-b707-44dd-b987-2eb698b60dc5",
   "metadata": {},
   "outputs": [],
   "source": []
  }
 ],
 "metadata": {
  "kernelspec": {
   "display_name": "Python [conda env:base] *",
   "language": "python",
   "name": "conda-base-py"
  },
  "language_info": {
   "codemirror_mode": {
    "name": "ipython",
    "version": 3
   },
   "file_extension": ".py",
   "mimetype": "text/x-python",
   "name": "python",
   "nbconvert_exporter": "python",
   "pygments_lexer": "ipython3",
   "version": "3.13.5"
  }
 },
 "nbformat": 4,
 "nbformat_minor": 5
}
