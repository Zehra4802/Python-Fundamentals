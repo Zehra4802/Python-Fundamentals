{
 "cells": [
  {
   "cell_type": "code",
   "execution_count": 1,
   "id": "95669532-15ae-434e-b9cd-1a484a3c5600",
   "metadata": {},
   "outputs": [
    {
     "name": "stdout",
     "output_type": "stream",
     "text": [
      " Hello  All Welcome to the  python\n"
     ]
    }
   ],
   "source": [
    "print  (\" Hello  All Welcome to the  python\")"
   ]
  },
  {
   "cell_type": "code",
   "execution_count": 2,
   "id": "2d024d60-7db4-45dd-aa26-98c1765ebd7e",
   "metadata": {},
   "outputs": [
    {
     "name": "stdout",
     "output_type": "stream",
     "text": [
      "Hello  World\n"
     ]
    }
   ],
   "source": [
    "print  (\"Hello  World\")"
   ]
  },
  {
   "cell_type": "code",
   "execution_count": null,
   "id": "30c87257-4c84-405f-b8d9-b32b7bb00c69",
   "metadata": {},
   "outputs": [],
   "source": []
  }
 ],
 "metadata": {
  "kernelspec": {
   "display_name": "Python [conda env:base] *",
   "language": "python",
   "name": "conda-base-py"
  },
  "language_info": {
   "codemirror_mode": {
    "name": "ipython",
    "version": 3
   },
   "file_extension": ".py",
   "mimetype": "text/x-python",
   "name": "python",
   "nbconvert_exporter": "python",
   "pygments_lexer": "ipython3",
   "version": "3.13.5"
  }
 },
 "nbformat": 4,
 "nbformat_minor": 5
}
