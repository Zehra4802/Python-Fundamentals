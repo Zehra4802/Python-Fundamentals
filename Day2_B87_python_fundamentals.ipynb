{
 "cells": [
  {
   "cell_type": "code",
   "execution_count": null,
   "id": "1f99bd81-63eb-4def-a8e2-950341c207a3",
   "metadata": {},
   "outputs": [],
   "source": [
    "Introduction  to python programming :"
   ]
  },
  {
   "cell_type": "code",
   "execution_count": null,
   "id": "40b7b5f1-fe54-4cef-b15e-ea65b4134846",
   "metadata": {},
   "outputs": [],
   "source": [
    "understanding the variables in python :"
   ]
  },
  {
   "cell_type": "code",
   "execution_count": 8,
   "id": "acb255d5-f24c-4d77-ad7d-e43e3db5a4b2",
   "metadata": {},
   "outputs": [],
   "source": [
    "x = 2\n",
    "\n",
    "y = 3"
   ]
  },
  {
   "cell_type": "code",
   "execution_count": 9,
   "id": "ed2098a2-6b98-4f11-897a-13fe40f12b33",
   "metadata": {
    "scrolled": true
   },
   "outputs": [
    {
     "name": "stdout",
     "output_type": "stream",
     "text": [
      "5\n"
     ]
    }
   ],
   "source": [
    "z = x+y\n",
    "\n",
    "print(z)"
   ]
  },
  {
   "cell_type": "code",
   "execution_count": null,
   "id": "97af8a67-25d2-483b-9681-f6b553880ce0",
   "metadata": {},
   "outputs": [],
   "source": [
    "Rules for declaring the variables in python :"
   ]
  },
  {
   "cell_type": "code",
   "execution_count": null,
   "id": "43c3f004-3df0-4b3b-bd27-0500590f4ab8",
   "metadata": {},
   "outputs": [],
   "source": [
    "Rule NO 1 : NO Namespaces while declaring the variable names in python"
   ]
  },
  {
   "cell_type": "code",
   "execution_count": 10,
   "id": "f2c9a4ed-0216-459a-8558-cb0765d9d836",
   "metadata": {},
   "outputs": [
    {
     "ename": "SyntaxError",
     "evalue": "invalid syntax (3242007496.py, line 1)",
     "output_type": "error",
     "traceback": [
      "\u001b[1;36m  Cell \u001b[1;32mIn[10], line 1\u001b[1;36m\u001b[0m\n\u001b[1;33m    first name = 'Faiyaz'\u001b[0m\n\u001b[1;37m          ^\u001b[0m\n\u001b[1;31mSyntaxError\u001b[0m\u001b[1;31m:\u001b[0m invalid syntax\n"
     ]
    }
   ],
   "source": [
    "first name = 'Faiyaz'\n",
    "\n",
    "print(first name)"
   ]
  },
  {
   "cell_type": "code",
   "execution_count": 11,
   "id": "3bae3b8f-6c05-44b8-9730-e0900ffea8e8",
   "metadata": {},
   "outputs": [
    {
     "name": "stdout",
     "output_type": "stream",
     "text": [
      "Faiyaz\n"
     ]
    }
   ],
   "source": [
    "firstname = 'Faiyaz'\n",
    "\n",
    "print(firstname)"
   ]
  },
  {
   "cell_type": "code",
   "execution_count": null,
   "id": "2e269cc6-ec40-4a4b-bb66-b1b2152ba582",
   "metadata": {},
   "outputs": [],
   "source": [
    "Rule No 2 : A variable name should not start with a number **"
   ]
  },
  {
   "cell_type": "code",
   "execution_count": 12,
   "id": "0650b742-2392-4214-8bf2-3341073db85f",
   "metadata": {},
   "outputs": [
    {
     "ename": "SyntaxError",
     "evalue": "invalid decimal literal (1561737147.py, line 1)",
     "output_type": "error",
     "traceback": [
      "\u001b[1;36m  Cell \u001b[1;32mIn[12], line 1\u001b[1;36m\u001b[0m\n\u001b[1;33m    1name = 'karthik'\u001b[0m\n\u001b[1;37m    ^\u001b[0m\n\u001b[1;31mSyntaxError\u001b[0m\u001b[1;31m:\u001b[0m invalid decimal literal\n"
     ]
    }
   ],
   "source": [
    "1name = 'karthik'\n",
    "\n",
    "print(1name)"
   ]
  },
  {
   "cell_type": "code",
   "execution_count": 13,
   "id": "d99d740e-f7e3-45e0-878e-9ffce72ca250",
   "metadata": {},
   "outputs": [
    {
     "name": "stdout",
     "output_type": "stream",
     "text": [
      "karthik\n"
     ]
    }
   ],
   "source": [
    "name1 = 'karthik'\n",
    "\n",
    "print(name1)"
   ]
  },
  {
   "cell_type": "code",
   "execution_count": null,
   "id": "6063af71-a47e-4794-919a-58376ae7ec95",
   "metadata": {},
   "outputs": [],
   "source": [
    "Rule No 3 : A variable name should not contain any special characters\n",
    "\n",
    "@ # $ % ^ & *"
   ]
  },
  {
   "cell_type": "code",
   "execution_count": 14,
   "id": "254d61c5-3f06-46fb-9654-5430e4bedc27",
   "metadata": {},
   "outputs": [
    {
     "ename": "SyntaxError",
     "evalue": "invalid syntax (2885408813.py, line 1)",
     "output_type": "error",
     "traceback": [
      "\u001b[1;36m  Cell \u001b[1;32mIn[14], line 1\u001b[1;36m\u001b[0m\n\u001b[1;33m    name@ = \"deepak\"\u001b[0m\n\u001b[1;37m          ^\u001b[0m\n\u001b[1;31mSyntaxError\u001b[0m\u001b[1;31m:\u001b[0m invalid syntax\n"
     ]
    }
   ],
   "source": [
    "name@ = \"deepak\"\n",
    "\n",
    "print(name@)"
   ]
  },
  {
   "cell_type": "code",
   "execution_count": null,
   "id": "0239e8fe-a015-48ab-ae7f-7ce6d2dd11a7",
   "metadata": {},
   "outputs": [],
   "source": []
  },
  {
   "cell_type": "code",
   "execution_count": null,
   "id": "2de611db-e8b7-460b-9d25-29c3a93cb15a",
   "metadata": {},
   "outputs": [],
   "source": [
    "introduction to datatypes in python :"
   ]
  },
  {
   "cell_type": "code",
   "execution_count": null,
   "id": "815a3898-105e-4b66-9884-69b748f2cf6a",
   "metadata": {},
   "outputs": [],
   "source": [
    "1. strings ====> str\n",
    "\n",
    "2. Numbers ====> integers ---> int and floats ===> float ( decimals====> 0.1, 0.2)\n",
    "\n",
    "3. lists=== > list\n",
    "\n",
    "4. tuples ====> tuple\n",
    "\n",
    "5. Dictionaries ====> dict"
   ]
  },
  {
   "cell_type": "code",
   "execution_count": null,
   "id": "d1392947-c470-4948-8ae2-a6ba82119b83",
   "metadata": {},
   "outputs": [],
   "source": [
    "Note : python is a case sensitive programming language ."
   ]
  },
  {
   "cell_type": "code",
   "execution_count": null,
   "id": "3d663e4c-4c31-4a7b-8181-6d884b03c79f",
   "metadata": {},
   "outputs": [],
   "source": []
  },
  {
   "cell_type": "code",
   "execution_count": null,
   "id": "56d6af61-868e-47e5-b6f3-0f852587662f",
   "metadata": {},
   "outputs": [],
   "source": [
    "classification of datatypes in python :"
   ]
  },
  {
   "cell_type": "code",
   "execution_count": null,
   "id": "7484d70d-ffc7-4895-91de-db761186af41",
   "metadata": {},
   "outputs": [],
   "source": [
    "Broadly datatypes are classified in to 2 different categories :\n",
    "\n",
    "      1. mutable  datatypes =====> which we can edit / alter ====> flexible in nature\n",
    "\n",
    "      2. immutable  datatypes ===> which we cannot be able to edit ===> these are fixed in nature"
   ]
  },
  {
   "cell_type": "code",
   "execution_count": null,
   "id": "e1e55f23-61ae-4d85-bec4-52b01afdf912",
   "metadata": {},
   "outputs": [],
   "source": [
    "introduction to string datatype :\n",
    "\n",
    "defination  : A string is a series of characters declared in quote.\n",
    "\n",
    "classification  : It is classified as immutable datatype\n",
    "\n",
    "how to declare the string datatype ======> 2 approaches\n",
    "\n",
    "1. single quote\n",
    "\n",
    "2. double quote"
   ]
  },
  {
   "cell_type": "code",
   "execution_count": 15,
   "id": "7dc5de62-be5c-4907-a38e-7f4c6590ecf8",
   "metadata": {},
   "outputs": [
    {
     "name": "stdout",
     "output_type": "stream",
     "text": [
      "joseph\n"
     ]
    }
   ],
   "source": [
    "name = 'joseph' # single quote\n",
    "\n",
    "print(name)"
   ]
  },
  {
   "cell_type": "code",
   "execution_count": 17,
   "id": "7fb72ef4-13a2-4fb4-bedf-c0c95185ee51",
   "metadata": {},
   "outputs": [
    {
     "name": "stdout",
     "output_type": "stream",
     "text": [
      "kavya\n"
     ]
    }
   ],
   "source": [
    " name2 = \"kavya\" # double quote\n",
    "\n",
    "print(name2)"
   ]
  },
  {
   "cell_type": "code",
   "execution_count": null,
   "id": "c5ddce66-802e-4402-ab80-5dda7f097c86",
   "metadata": {},
   "outputs": [],
   "source": [
    "introductin to string methonds :"
   ]
  },
  {
   "cell_type": "code",
   "execution_count": 18,
   "id": "cd7bc928-a6a1-40bb-8b1c-10a3347ddb6c",
   "metadata": {},
   "outputs": [
    {
     "data": {
      "text/plain": [
       "str"
      ]
     },
     "execution_count": 18,
     "metadata": {},
     "output_type": "execute_result"
    }
   ],
   "source": [
    "type(name)"
   ]
  },
  {
   "cell_type": "code",
   "execution_count": 19,
   "id": "eb05f351-9c80-4c9d-bbac-250fe4e8a954",
   "metadata": {},
   "outputs": [
    {
     "data": {
      "text/plain": [
       "str"
      ]
     },
     "execution_count": 19,
     "metadata": {},
     "output_type": "execute_result"
    }
   ],
   "source": [
    "type(name2)"
   ]
  },
  {
   "cell_type": "code",
   "execution_count": 20,
   "id": "dddebbf4-0b36-47ee-9383-0999236fe8fb",
   "metadata": {},
   "outputs": [
    {
     "name": "stdout",
     "output_type": "stream",
     "text": [
      "zeba ansari\n"
     ]
    }
   ],
   "source": [
    "fullname = 'zeba ansari'\n",
    "\n",
    "print(fullname)"
   ]
  },
  {
   "cell_type": "code",
   "execution_count": null,
   "id": "479ae8fc-9968-4dc9-ba31-8407d55e1ac0",
   "metadata": {},
   "outputs": [],
   "source": [
    "# req : to correct the format"
   ]
  },
  {
   "cell_type": "code",
   "execution_count": 21,
   "id": "86f0dc23-04a2-4fab-bcee-3e1bd80ea777",
   "metadata": {},
   "outputs": [
    {
     "name": "stdout",
     "output_type": "stream",
     "text": [
      "Zeba Ansari\n"
     ]
    }
   ],
   "source": [
    "print(fullname.title())"
   ]
  },
  {
   "cell_type": "code",
   "execution_count": null,
   "id": "bb5cb271-dde9-4b1d-ab54-e06b13ac00ab",
   "metadata": {},
   "outputs": [],
   "source": [
    "# req : i want the entire name in capitals"
   ]
  },
  {
   "cell_type": "code",
   "execution_count": 22,
   "id": "b4bfa79d-f969-4b24-aa64-0ced5d793e77",
   "metadata": {},
   "outputs": [
    {
     "name": "stdout",
     "output_type": "stream",
     "text": [
      "ZEBA ANSARI\n"
     ]
    }
   ],
   "source": [
    "print(fullname.upper())"
   ]
  },
  {
   "cell_type": "code",
   "execution_count": null,
   "id": "afd6b9b2-59d0-461f-bb1c-b8968ef86640",
   "metadata": {},
   "outputs": [],
   "source": [
    "# req : i want the entire name in small case letters."
   ]
  },
  {
   "cell_type": "code",
   "execution_count": 23,
   "id": "b36f177a-66f9-4506-b44c-83037d9499a0",
   "metadata": {},
   "outputs": [
    {
     "name": "stdout",
     "output_type": "stream",
     "text": [
      "zeba ansari\n"
     ]
    }
   ],
   "source": [
    "print(fullname.lower())"
   ]
  },
  {
   "cell_type": "code",
   "execution_count": null,
   "id": "50ce8035-25fb-4e62-91ce-0023a2969f20",
   "metadata": {},
   "outputs": [],
   "source": []
  }
 ],
 "metadata": {
  "kernelspec": {
   "display_name": "Python [conda env:base] *",
   "language": "python",
   "name": "conda-base-py"
  },
  "language_info": {
   "codemirror_mode": {
    "name": "ipython",
    "version": 3
   },
   "file_extension": ".py",
   "mimetype": "text/x-python",
   "name": "python",
   "nbconvert_exporter": "python",
   "pygments_lexer": "ipython3",
   "version": "3.13.5"
  }
 },
 "nbformat": 4,
 "nbformat_minor": 5
}
