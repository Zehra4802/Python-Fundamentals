{
 "cells": [
  {
   "cell_type": "code",
   "execution_count": 8,
   "id": "def776f4-9d8e-4b71-a005-a792c16a43ac",
   "metadata": {},
   "outputs": [
    {
     "ename": "SyntaxError",
     "evalue": "invalid syntax (2836144321.py, line 1)",
     "output_type": "error",
     "traceback": [
      "\u001b[1;36m  Cell \u001b[1;32mIn[8], line 1\u001b[1;36m\u001b[0m\n\u001b[1;33m    Contination with string datatype :\u001b[0m\n\u001b[1;37m                ^\u001b[0m\n\u001b[1;31mSyntaxError\u001b[0m\u001b[1;31m:\u001b[0m invalid syntax\n"
     ]
    }
   ],
   "source": [
    "Contination with string datatype :"
   ]
  },
  {
   "cell_type": "code",
   "execution_count": null,
   "id": "ba48ba0e-d916-4395-bb38-c1fbe7768259",
   "metadata": {},
   "outputs": [],
   "source": []
  },
  {
   "cell_type": "code",
   "execution_count": null,
   "id": "38e07c8e-570c-446f-9472-b26f3947842c",
   "metadata": {},
   "outputs": [],
   "source": [
    "introduction to f strings **"
   ]
  },
  {
   "cell_type": "code",
   "execution_count": null,
   "id": "41483148-115b-4ba5-b6aa-55a786b1f673",
   "metadata": {},
   "outputs": [],
   "source": []
  },
  {
   "cell_type": "code",
   "execution_count": 10,
   "id": "335e9347-fec0-40b5-a1c4-47a3de2b6daa",
   "metadata": {},
   "outputs": [],
   "source": [
    "firstname = 'dinesh'\n",
    "\n",
    "lastname = 'kumar'"
   ]
  },
  {
   "cell_type": "code",
   "execution_count": null,
   "id": "8ac7622a-5d58-49ad-8065-19f9bc9c13d9",
   "metadata": {},
   "outputs": [],
   "source": [
    "# req : i want to get the fullname.....?"
   ]
  },
  {
   "cell_type": "code",
   "execution_count": null,
   "id": "4eda215c-f86e-420a-90de-49d2742c6abc",
   "metadata": {},
   "outputs": [],
   "source": [
    "# general syntax of f strings"
   ]
  },
  {
   "cell_type": "code",
   "execution_count": null,
   "id": "7d97d9e5-c788-463d-9ca4-bf1c0770b9b8",
   "metadata": {},
   "outputs": [],
   "source": [
    "f\"custom message {place_holder1} {placeholder_2}........{placeholder_n}\""
   ]
  },
  {
   "cell_type": "code",
   "execution_count": 11,
   "id": "f4537e0c-b27d-4a36-b19f-b633da7bd757",
   "metadata": {},
   "outputs": [
    {
     "name": "stdout",
     "output_type": "stream",
     "text": [
      "dinesh kumar\n"
     ]
    }
   ],
   "source": [
    "fullname = f\"{firstname} {lastname}\"\n",
    "\n",
    "print(fullname)"
   ]
  },
  {
   "cell_type": "code",
   "execution_count": 12,
   "id": "ab6d2503-2fac-465b-83e2-c61e5fb6773f",
   "metadata": {},
   "outputs": [
    {
     "name": "stdout",
     "output_type": "stream",
     "text": [
      "Dinesh Kumar\n"
     ]
    }
   ],
   "source": [
    "print(fullname.title())"
   ]
  },
  {
   "cell_type": "code",
   "execution_count": 17,
   "id": "40a47e0c-5db6-48bc-9e3d-29f80a758081",
   "metadata": {},
   "outputs": [],
   "source": [
    "message = f\"keep up the good work, {fullname.title()}\""
   ]
  },
  {
   "cell_type": "code",
   "execution_count": 18,
   "id": "d0d3fc7d-da40-4ed7-9487-4ef695137ad2",
   "metadata": {},
   "outputs": [
    {
     "name": "stdout",
     "output_type": "stream",
     "text": [
      "keep up the good work, Dinesh Kumar\n"
     ]
    }
   ],
   "source": [
    "print(message)"
   ]
  },
  {
   "cell_type": "code",
   "execution_count": null,
   "id": "b0b183e3-48e6-4716-8f79-fb3d702778a6",
   "metadata": {},
   "outputs": [],
   "source": []
  },
  {
   "cell_type": "code",
   "execution_count": null,
   "id": "8cb6b307-9e30-4cf9-86e1-8f9448817aff",
   "metadata": {},
   "outputs": [],
   "source": [
    "adding whitespaces to strings : "
   ]
  },
  {
   "cell_type": "code",
   "execution_count": 19,
   "id": "c2efc79a-55f7-4537-905c-9da83ae820c0",
   "metadata": {},
   "outputs": [
    {
     "name": "stdout",
     "output_type": "stream",
     "text": [
      "favorite_language:PythonCjavac++swiftjavascript\n"
     ]
    }
   ],
   "source": [
    "print(\"favorite_language:PythonCjavac++swiftjavascript\")"
   ]
  },
  {
   "cell_type": "code",
   "execution_count": 20,
   "id": "eb945745-2290-4970-a3c7-c94fc79e460e",
   "metadata": {},
   "outputs": [
    {
     "name": "stdout",
     "output_type": "stream",
     "text": [
      "favorite_language:\n",
      "Python\n",
      "C\n",
      "java\n",
      "c++\n",
      "swift\n",
      "javascript\n"
     ]
    }
   ],
   "source": [
    "print(\"favorite_language:\\nPython\\nC\\njava\\nc++\\nswift\\njavascript\") # \\n ---> new line delimiter"
   ]
  },
  {
   "cell_type": "code",
   "execution_count": null,
   "id": "4a6ab059-bb3f-420a-b01b-59416cc8e372",
   "metadata": {},
   "outputs": [],
   "source": [
    "Removing whitespaces from the strings :"
   ]
  },
  {
   "cell_type": "code",
   "execution_count": null,
   "id": "307158c7-fb79-45c0-9844-b10455b97b80",
   "metadata": {},
   "outputs": [],
   "source": []
  },
  {
   "cell_type": "code",
   "execution_count": 22,
   "id": "66b33e37-4764-4015-a7b5-25183ff94f52",
   "metadata": {},
   "outputs": [
    {
     "name": "stdout",
     "output_type": "stream",
     "text": [
      "  python\n"
     ]
    }
   ],
   "source": [
    "name =\"  python\" \n",
    "\n",
    "print(name)"
   ]
  },
  {
   "cell_type": "code",
   "execution_count": 23,
   "id": "3e5e37d5-7da0-4db9-bbd6-0ec764f02376",
   "metadata": {},
   "outputs": [
    {
     "name": "stdout",
     "output_type": "stream",
     "text": [
      "python\n"
     ]
    }
   ],
   "source": [
    "name2= \"python\"\n",
    "print(name2)"
   ]
  },
  {
   "cell_type": "code",
   "execution_count": 24,
   "id": "802e79b3-5c2d-469e-82b2-39e5969df9b5",
   "metadata": {},
   "outputs": [
    {
     "name": "stdout",
     "output_type": "stream",
     "text": [
      "python  \n"
     ]
    }
   ],
   "source": [
    "name3 = \"python  \"\n",
    "\n",
    "print(name3)"
   ]
  },
  {
   "cell_type": "code",
   "execution_count": 25,
   "id": "b71d54c9-408d-42f5-8d1a-1b11f13958c2",
   "metadata": {},
   "outputs": [
    {
     "data": {
      "text/plain": [
       "'python'"
      ]
     },
     "execution_count": 25,
     "metadata": {},
     "output_type": "execute_result"
    }
   ],
   "source": [
    "name.lstrip()"
   ]
  },
  {
   "cell_type": "code",
   "execution_count": 26,
   "id": "ab768215-a07f-4305-9b20-7a903a709fc6",
   "metadata": {},
   "outputs": [
    {
     "data": {
      "text/plain": [
       "'python'"
      ]
     },
     "execution_count": 26,
     "metadata": {},
     "output_type": "execute_result"
    }
   ],
   "source": [
    "name3.rstrip()"
   ]
  },
  {
   "cell_type": "code",
   "execution_count": 27,
   "id": "74d7770d-dc85-45cb-b7ff-537e55823d66",
   "metadata": {},
   "outputs": [
    {
     "name": "stdout",
     "output_type": "stream",
     "text": [
      "  python  \n"
     ]
    }
   ],
   "source": [
    "name4 = '  python  '\n",
    "print(name4)"
   ]
  },
  {
   "cell_type": "code",
   "execution_count": 28,
   "id": "3420f2da-958e-4e10-8ed9-b8f60e639bab",
   "metadata": {},
   "outputs": [
    {
     "data": {
      "text/plain": [
       "'python'"
      ]
     },
     "execution_count": 28,
     "metadata": {},
     "output_type": "execute_result"
    }
   ],
   "source": [
    "name4.strip()"
   ]
  },
  {
   "cell_type": "code",
   "execution_count": null,
   "id": "c2999575-7907-43ac-b0f1-40882ee28b6e",
   "metadata": {},
   "outputs": [],
   "source": [
    "# zen of python : Guiding Principles"
   ]
  },
  {
   "cell_type": "code",
   "execution_count": 29,
   "id": "c0e3a6cf-7f15-4173-84e0-f0cc7d826cba",
   "metadata": {},
   "outputs": [
    {
     "name": "stdout",
     "output_type": "stream",
     "text": [
      "The Zen of Python, by Tim Peters\n",
      "\n",
      "Beautiful is better than ugly.\n",
      "Explicit is better than implicit.\n",
      "Simple is better than complex.\n",
      "Complex is better than complicated.\n",
      "Flat is better than nested.\n",
      "Sparse is better than dense.\n",
      "Readability counts.\n",
      "Special cases aren't special enough to break the rules.\n",
      "Although practicality beats purity.\n",
      "Errors should never pass silently.\n",
      "Unless explicitly silenced.\n",
      "In the face of ambiguity, refuse the temptation to guess.\n",
      "There should be one-- and preferably only one --obvious way to do it.\n",
      "Although that way may not be obvious at first unless you're Dutch.\n",
      "Now is better than never.\n",
      "Although never is often better than *right* now.\n",
      "If the implementation is hard to explain, it's a bad idea.\n",
      "If the implementation is easy to explain, it may be a good idea.\n",
      "Namespaces are one honking great idea -- let's do more of those!\n"
     ]
    }
   ],
   "source": [
    "import this **"
   ]
  },
  {
   "cell_type": "code",
   "execution_count": null,
   "id": "533818b0-8565-4e17-ae4e-426f6b640517",
   "metadata": {},
   "outputs": [],
   "source": []
  }
 ],
 "metadata": {
  "kernelspec": {
   "display_name": "Python [conda env:base] *",
   "language": "python",
   "name": "conda-base-py"
  },
  "language_info": {
   "codemirror_mode": {
    "name": "ipython",
    "version": 3
   },
   "file_extension": ".py",
   "mimetype": "text/x-python",
   "name": "python",
   "nbconvert_exporter": "python",
   "pygments_lexer": "ipython3",
   "version": "3.13.5"
  }
 },
 "nbformat": 4,
 "nbformat_minor": 5
}
