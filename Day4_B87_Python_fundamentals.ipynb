{
 "cells": [
  {
   "cell_type": "code",
   "execution_count": null,
   "id": "941e1656-dae4-4288-877e-4acca9515a29",
   "metadata": {},
   "outputs": [],
   "source": [
    "Getting started with python :"
   ]
  },
  {
   "cell_type": "code",
   "execution_count": null,
   "id": "577e9b8a-9fcf-498e-b231-28c1755c3916",
   "metadata": {},
   "outputs": [],
   "source": []
  },
  {
   "cell_type": "code",
   "execution_count": null,
   "id": "ea261c14-f02a-4de8-9406-5577abe74e63",
   "metadata": {},
   "outputs": [],
   "source": [
    "Introduction to datatypes :\n",
    "\n",
    "   1. string ====> completed\n",
    "\n",
    "   2 Numbers ====> integers (int) and float( decimals) = 0.1,0.2\n",
    "\n",
    "   3. list datatype\n",
    "\n",
    "   4. tuples\n",
    "\n",
    "   5. Dictionaries\n",
    "        "
   ]
  },
  {
   "cell_type": "code",
   "execution_count": null,
   "id": "f61fbb7a-30a3-4616-97aa-385e794d371c",
   "metadata": {},
   "outputs": [],
   "source": [
    "introduction to Numbers"
   ]
  },
  {
   "cell_type": "code",
   "execution_count": 9,
   "id": "c14f9d34-3f98-4d4e-ab84-474cda9f85f4",
   "metadata": {},
   "outputs": [
    {
     "name": "stdout",
     "output_type": "stream",
     "text": [
      "123\n"
     ]
    }
   ],
   "source": [
    "number =123\n",
    "\n",
    "print(number)"
   ]
  },
  {
   "cell_type": "code",
   "execution_count": 10,
   "id": "84c77abe-7eb1-46a1-bcf8-af99a165fbe8",
   "metadata": {},
   "outputs": [
    {
     "data": {
      "text/plain": [
       "int"
      ]
     },
     "execution_count": 10,
     "metadata": {},
     "output_type": "execute_result"
    }
   ],
   "source": [
    "type(number)"
   ]
  },
  {
   "cell_type": "code",
   "execution_count": 11,
   "id": "2c9eabba-0f06-40c7-a177-37eb6e1b47d5",
   "metadata": {},
   "outputs": [
    {
     "name": "stdout",
     "output_type": "stream",
     "text": [
      "0.1\n"
     ]
    }
   ],
   "source": [
    "num2 = 0.1\n",
    "\n",
    "print(num2)"
   ]
  },
  {
   "cell_type": "code",
   "execution_count": 12,
   "id": "32710f9f-763c-4b84-995e-0bea92993e92",
   "metadata": {},
   "outputs": [
    {
     "data": {
      "text/plain": [
       "float"
      ]
     },
     "execution_count": 12,
     "metadata": {},
     "output_type": "execute_result"
    }
   ],
   "source": [
    "type(num2)"
   ]
  },
  {
   "cell_type": "code",
   "execution_count": null,
   "id": "6167b638-1f07-4f77-ae3b-934222e532c8",
   "metadata": {},
   "outputs": [],
   "source": []
  },
  {
   "cell_type": "code",
   "execution_count": null,
   "id": "67c0f8f9-b6d0-4182-8604-bef427612d46",
   "metadata": {},
   "outputs": [],
   "source": [
    "introduction to list datatype :\n",
    "\n",
    "defination : A list is a collection of items defined in a particular order.\n",
    "\n",
    "classification : It is classified as mutable datatype (which we can edit / alter)\n",
    "\n",
    "how to define the list datatype : [] # square brackets.\n"
   ]
  },
  {
   "cell_type": "code",
   "execution_count": null,
   "id": "666fd7bd-b31d-431b-b81e-4856a7ce268c",
   "metadata": {},
   "outputs": [],
   "source": []
  },
  {
   "cell_type": "code",
   "execution_count": 17,
   "id": "10dfb3cb-051c-4191-90e4-09c0a7623f7c",
   "metadata": {},
   "outputs": [],
   "source": [
    "students = ['arpita','ashwini','asma','bhuvan','david','karthik'] # [0,1,2,3,4,5]"
   ]
  },
  {
   "cell_type": "code",
   "execution_count": 18,
   "id": "550d7d0a-d3b2-42b6-b731-ea2bf2dcb4bb",
   "metadata": {},
   "outputs": [
    {
     "name": "stdout",
     "output_type": "stream",
     "text": [
      "['arpita', 'ashwini', 'asma', 'bhuvan', 'david', 'karthik']\n"
     ]
    }
   ],
   "source": [
    "print(students)"
   ]
  },
  {
   "cell_type": "code",
   "execution_count": null,
   "id": "1f050ce4-2c68-41f1-9fa9-10554379d5cd",
   "metadata": {},
   "outputs": [],
   "source": []
  },
  {
   "cell_type": "code",
   "execution_count": 19,
   "id": "ba9e4f65-802a-4547-948d-199e45e4036e",
   "metadata": {},
   "outputs": [
    {
     "data": {
      "text/plain": [
       "list"
      ]
     },
     "execution_count": 19,
     "metadata": {},
     "output_type": "execute_result"
    }
   ],
   "source": [
    "type(students)"
   ]
  },
  {
   "cell_type": "code",
   "execution_count": null,
   "id": "ee898cd1-18b1-4059-989f-e31c4c9963a9",
   "metadata": {},
   "outputs": [],
   "source": [
    "introduction to indexing : 0,1,2,3,4,5,6.........."
   ]
  },
  {
   "cell_type": "code",
   "execution_count": null,
   "id": "f6917616-0aa2-43f0-9148-b53436c3c626",
   "metadata": {},
   "outputs": [],
   "source": []
  },
  {
   "cell_type": "code",
   "execution_count": null,
   "id": "449f7c4e-aab4-4206-b68d-f0c62a183d32",
   "metadata": {},
   "outputs": [],
   "source": [
    "# req : i want to access ashwini name in the output....?"
   ]
  },
  {
   "cell_type": "code",
   "execution_count": 20,
   "id": "33b7e264-be08-4b79-85a5-d0e09c141be8",
   "metadata": {},
   "outputs": [
    {
     "name": "stdout",
     "output_type": "stream",
     "text": [
      "ashwini\n"
     ]
    }
   ],
   "source": [
    "print(students[1])"
   ]
  },
  {
   "cell_type": "code",
   "execution_count": 22,
   "id": "830f0cfd-4016-4d8b-b523-d2f96a43d20d",
   "metadata": {},
   "outputs": [
    {
     "name": "stdout",
     "output_type": "stream",
     "text": [
      "Ashwini\n"
     ]
    }
   ],
   "source": [
    "print(students[1].title())"
   ]
  },
  {
   "cell_type": "code",
   "execution_count": null,
   "id": "16ee8626-769b-4d36-8588-94d0e156af9b",
   "metadata": {},
   "outputs": [],
   "source": [
    "# req : i want to access bhuvan name in the op...?"
   ]
  },
  {
   "cell_type": "code",
   "execution_count": 23,
   "id": "a38eedff-35a3-4a0b-9443-e47cec81ce48",
   "metadata": {},
   "outputs": [
    {
     "name": "stdout",
     "output_type": "stream",
     "text": [
      "Bhuvan\n"
     ]
    }
   ],
   "source": [
    "print(students[3].title())"
   ]
  },
  {
   "cell_type": "code",
   "execution_count": null,
   "id": "9a0237f7-ba70-4680-aed3-0f5bbc5a71fe",
   "metadata": {},
   "outputs": [],
   "source": []
  },
  {
   "cell_type": "code",
   "execution_count": null,
   "id": "f01a1285-ce0c-453b-8d40-fd61ea954555",
   "metadata": {},
   "outputs": [],
   "source": [
    "how to add new elements to the list\n",
    "how to modify the elements in the list\n",
    "how to delete the elements in the list"
   ]
  },
  {
   "cell_type": "code",
   "execution_count": null,
   "id": "539e304d-ab49-428a-8b47-da8141f2a8bc",
   "metadata": {},
   "outputs": [],
   "source": []
  },
  {
   "cell_type": "code",
   "execution_count": 24,
   "id": "66edbae5-f93d-4118-9edb-7ba6b4888d94",
   "metadata": {},
   "outputs": [
    {
     "name": "stdout",
     "output_type": "stream",
     "text": [
      "['arpita', 'ashwini', 'asma', 'bhuvan', 'david', 'karthik']\n"
     ]
    }
   ],
   "source": [
    "print(students)"
   ]
  },
  {
   "cell_type": "code",
   "execution_count": 13,
   "id": "1295e1e1-b85e-4506-b433-d2d6a7a8448a",
   "metadata": {},
   "outputs": [],
   "source": [
    "# req : i want to add shafi name in the above list.."
   ]
  },
  {
   "cell_type": "code",
   "execution_count": 14,
   "id": "695166ff-f15a-48d5-9dcb-f689ab17b57b",
   "metadata": {},
   "outputs": [],
   "source": [
    "students = ['arpita', 'ashwini', 'asma', 'bhuvan', 'david', 'karthik']"
   ]
  },
  {
   "cell_type": "code",
   "execution_count": 15,
   "id": "28d74876-499e-4609-802f-04d6f9bccc14",
   "metadata": {},
   "outputs": [],
   "source": [
    "students.append('shafi')"
   ]
  },
  {
   "cell_type": "code",
   "execution_count": 16,
   "id": "8517b403-fbe4-4322-a05f-0fce650ac33b",
   "metadata": {},
   "outputs": [
    {
     "name": "stdout",
     "output_type": "stream",
     "text": [
      "['arpita', 'ashwini', 'asma', 'bhuvan', 'david', 'karthik', 'shafi']\n"
     ]
    }
   ],
   "source": [
    "print(students)"
   ]
  },
  {
   "cell_type": "code",
   "execution_count": 17,
   "id": "3ed75bae-5b71-45ee-b361-c50f4f9481c9",
   "metadata": {},
   "outputs": [],
   "source": [
    "# req : i want to add venkat to the above list."
   ]
  },
  {
   "cell_type": "code",
   "execution_count": 19,
   "id": "8af8488c-7781-4e6c-841e-013ba204ddbc",
   "metadata": {},
   "outputs": [],
   "source": [
    "students.append('venkat')"
   ]
  },
  {
   "cell_type": "code",
   "execution_count": 20,
   "id": "618f4df2-d051-454d-8463-48b4b657174b",
   "metadata": {},
   "outputs": [
    {
     "name": "stdout",
     "output_type": "stream",
     "text": [
      "['arpita', 'ashwini', 'asma', 'bhuvan', 'david', 'karthik', 'shafi', 'venkat', 'venkat']\n"
     ]
    }
   ],
   "source": [
    "print(students)"
   ]
  },
  {
   "cell_type": "code",
   "execution_count": 21,
   "id": "e60222ca-6aad-49f0-81a6-cfa5e8042b1f",
   "metadata": {},
   "outputs": [],
   "source": [
    "# req : i want to add kaleem at 2nd index position.."
   ]
  },
  {
   "cell_type": "code",
   "execution_count": 22,
   "id": "85819a6f-7d9a-4d68-bac6-6ba8b21f2dca",
   "metadata": {},
   "outputs": [],
   "source": [
    "students.insert(2, 'kaleem')"
   ]
  },
  {
   "cell_type": "code",
   "execution_count": 23,
   "id": "67f3e5b9-b07b-428d-bfd4-4bbbf2e467a1",
   "metadata": {},
   "outputs": [
    {
     "name": "stdout",
     "output_type": "stream",
     "text": [
      "['arpita', 'ashwini', 'kaleem', 'asma', 'bhuvan', 'david', 'karthik', 'shafi', 'venkat', 'venkat']\n"
     ]
    }
   ],
   "source": [
    "print(students)"
   ]
  },
  {
   "cell_type": "code",
   "execution_count": 24,
   "id": "0e72291a-1126-4c99-a3d9-722e2b1a9994",
   "metadata": {},
   "outputs": [
    {
     "name": "stdout",
     "output_type": "stream",
     "text": [
      "kaleem\n"
     ]
    }
   ],
   "source": [
    "print(students[2])"
   ]
  },
  {
   "cell_type": "code",
   "execution_count": null,
   "id": "2f25aafc-819a-472a-abf0-d0aed8e2993f",
   "metadata": {},
   "outputs": [],
   "source": [
    "interview_questions : what is the difference btw append and insert methods in a list datatype......?"
   ]
  },
  {
   "cell_type": "code",
   "execution_count": 28,
   "id": "6d8d9cf9-391e-47ec-b97d-1fa1d4ae15ed",
   "metadata": {},
   "outputs": [
    {
     "name": "stdout",
     "output_type": "stream",
     "text": [
      "['arpita', 'ashwini', 'kaleem', 'asma', 'bhuvan', 'david', 'karthik', 'shafi', 'venkat', 'venkat']\n"
     ]
    }
   ],
   "source": [
    "print(students)"
   ]
  },
  {
   "cell_type": "code",
   "execution_count": 29,
   "id": "57d68da9-1bfa-45bd-a27e-0dfbcdf810e7",
   "metadata": {},
   "outputs": [],
   "source": [
    "# req : i want to modify arpita name to anand....."
   ]
  },
  {
   "cell_type": "code",
   "execution_count": 30,
   "id": "28031c90-aa40-4ff4-b3e8-ee742f4902c4",
   "metadata": {},
   "outputs": [],
   "source": [
    "students[0] = 'Anand'"
   ]
  },
  {
   "cell_type": "code",
   "execution_count": 31,
   "id": "ac334b8d-c38a-46ef-b9de-6b4fba614c02",
   "metadata": {},
   "outputs": [
    {
     "name": "stdout",
     "output_type": "stream",
     "text": [
      "['Anand', 'ashwini', 'kaleem', 'asma', 'bhuvan', 'david', 'karthik', 'shafi', 'venkat', 'venkat']\n"
     ]
    }
   ],
   "source": [
    "print(students)"
   ]
  },
  {
   "cell_type": "code",
   "execution_count": 32,
   "id": "b303c9df-7b62-447d-a704-3428fdc581a8",
   "metadata": {},
   "outputs": [],
   "source": [
    "# req : i want to delete ashwini name in the above list.....?"
   ]
  },
  {
   "cell_type": "code",
   "execution_count": 33,
   "id": "277cbd7b-6809-4b4e-b872-33a43a2f3492",
   "metadata": {},
   "outputs": [],
   "source": [
    "del students[1]"
   ]
  },
  {
   "cell_type": "code",
   "execution_count": 34,
   "id": "8cd6eeb9-402c-4073-8e1c-6e60923a5707",
   "metadata": {},
   "outputs": [
    {
     "name": "stdout",
     "output_type": "stream",
     "text": [
      "['Anand', 'kaleem', 'asma', 'bhuvan', 'david', 'karthik', 'shafi', 'venkat', 'venkat']\n"
     ]
    }
   ],
   "source": [
    "print(students)"
   ]
  },
  {
   "cell_type": "code",
   "execution_count": null,
   "id": "efd511b6-b387-4d86-bdda-eeef5b526472",
   "metadata": {},
   "outputs": [],
   "source": []
  }
 ],
 "metadata": {
  "kernelspec": {
   "display_name": "Python [conda env:base] *",
   "language": "python",
   "name": "conda-base-py"
  },
  "language_info": {
   "codemirror_mode": {
    "name": "ipython",
    "version": 3
   },
   "file_extension": ".py",
   "mimetype": "text/x-python",
   "name": "python",
   "nbconvert_exporter": "python",
   "pygments_lexer": "ipython3",
   "version": "3.13.5"
  }
 },
 "nbformat": 4,
 "nbformat_minor": 5
}
