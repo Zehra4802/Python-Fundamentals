{
 "cells": [
  {
   "cell_type": "markdown",
   "id": "b2f35d5c-cd02-4965-9984-1a25367f9e89",
   "metadata": {},
   "source": []
  },
  {
   "cell_type": "code",
   "execution_count": null,
   "id": "5f8cdaa9-3ae7-4cbb-b2e9-269a43834cbc",
   "metadata": {},
   "outputs": [],
   "source": [
    "continuation with list datatype :"
   ]
  },
  {
   "cell_type": "code",
   "execution_count": null,
   "id": "15b697b0-752b-4ab0-8450-5dac9d347622",
   "metadata": {},
   "outputs": [],
   "source": []
  },
  {
   "cell_type": "code",
   "execution_count": null,
   "id": "db88e106-5f30-47cb-bbaa-dff9fcebc456",
   "metadata": {},
   "outputs": [],
   "source": [
    "organising the list datatype :"
   ]
  },
  {
   "cell_type": "code",
   "execution_count": null,
   "id": "1b328b68-72f8-4d8b-b114-c0ce85b9f2bc",
   "metadata": {},
   "outputs": [],
   "source": []
  },
  {
   "cell_type": "code",
   "execution_count": 8,
   "id": "eff422ec-31e7-4b93-9fb4-ba87bece58c5",
   "metadata": {},
   "outputs": [],
   "source": [
    "cars = ['bmw', 'tata', 'suzuki', 'audi', 'toyota', 'benz']"
   ]
  },
  {
   "cell_type": "code",
   "execution_count": 9,
   "id": "676e5c24-5ef7-4a8a-965f-afa81904b59b",
   "metadata": {},
   "outputs": [
    {
     "name": "stdout",
     "output_type": "stream",
     "text": [
      "['bmw', 'tata', 'suzuki', 'audi', 'toyota', 'benz']\n"
     ]
    }
   ],
   "source": [
    "print(cars)"
   ]
  },
  {
   "cell_type": "code",
   "execution_count": 10,
   "id": "d47b928b-be63-4f2c-b1ad-8f5455663545",
   "metadata": {},
   "outputs": [
    {
     "data": {
      "text/plain": [
       "list"
      ]
     },
     "execution_count": 10,
     "metadata": {},
     "output_type": "execute_result"
    }
   ],
   "source": [
    "type(cars)"
   ]
  },
  {
   "cell_type": "code",
   "execution_count": 11,
   "id": "81ee6b0d-b73c-4c2b-a411-965e5b87f1ae",
   "metadata": {},
   "outputs": [],
   "source": [
    "# req : i want to organise the list in alphabetical order"
   ]
  },
  {
   "cell_type": "code",
   "execution_count": null,
   "id": "3c81ed49-a73e-409c-afa4-d17f9ae3d6ad",
   "metadata": {},
   "outputs": [],
   "source": [
    "A, B, C, D"
   ]
  },
  {
   "cell_type": "code",
   "execution_count": null,
   "id": "ad5469d7-9924-4629-8813-7cca1eabc323",
   "metadata": {},
   "outputs": [],
   "source": [
    "there are 2 approaches :\n",
    "\n",
    "    1. temporary approach =====> sorted method ===> we will be able to get the original order defined\n",
    "\n",
    "    2. permanent approach =====> sort method"
   ]
  },
  {
   "cell_type": "code",
   "execution_count": 15,
   "id": "5c50b154-040c-4c47-bc46-c2d7959df08a",
   "metadata": {},
   "outputs": [
    {
     "name": "stdout",
     "output_type": "stream",
     "text": [
      "['audi', 'benz', 'bmw', 'suzuki', 'tata', 'toyota']\n"
     ]
    }
   ],
   "source": [
    "print(sorted(cars))"
   ]
  },
  {
   "cell_type": "code",
   "execution_count": null,
   "id": "40eb5eb0-158f-4501-b15e-cfc45540801d",
   "metadata": {},
   "outputs": [],
   "source": [
    "benz, bmw ====> e,m"
   ]
  },
  {
   "cell_type": "code",
   "execution_count": 16,
   "id": "e4fbbf59-0dda-49bc-bdee-7d83716cf3d5",
   "metadata": {},
   "outputs": [
    {
     "name": "stdout",
     "output_type": "stream",
     "text": [
      "['bmw', 'tata', 'suzuki', 'audi', 'toyota', 'benz']\n"
     ]
    }
   ],
   "source": [
    "print(cars) # this is the original order"
   ]
  },
  {
   "cell_type": "code",
   "execution_count": null,
   "id": "4ea6896b-d5cd-4653-84e7-cf0aebe5f5fc",
   "metadata": {},
   "outputs": [],
   "source": []
  },
  {
   "cell_type": "code",
   "execution_count": null,
   "id": "83078a66-9f6f-4af0-b1f4-1c3ef7df87ea",
   "metadata": {},
   "outputs": [],
   "source": [
    "cars.sort()"
   ]
  },
  {
   "cell_type": "code",
   "execution_count": 17,
   "id": "57a9337e-2d3a-4777-84a6-fd472bdbd844",
   "metadata": {},
   "outputs": [
    {
     "name": "stdout",
     "output_type": "stream",
     "text": [
      "['bmw', 'tata', 'suzuki', 'audi', 'toyota', 'benz']\n"
     ]
    }
   ],
   "source": [
    "print(cars)"
   ]
  },
  {
   "cell_type": "code",
   "execution_count": 18,
   "id": "01468509-ff4f-4131-9c22-fcbf01dc3d93",
   "metadata": {},
   "outputs": [
    {
     "name": "stdout",
     "output_type": "stream",
     "text": [
      "['bmw', 'tata', 'suzuki', 'audi', 'toyota', 'benz']\n"
     ]
    }
   ],
   "source": [
    "print(cars)"
   ]
  },
  {
   "cell_type": "code",
   "execution_count": null,
   "id": "62a75142-2313-4739-aedf-70656296313e",
   "metadata": {},
   "outputs": [],
   "source": [
    "interview_question : what is the difference between sorted and sort method in a list datatype?"
   ]
  },
  {
   "cell_type": "code",
   "execution_count": null,
   "id": "bab85438-6da6-4fbe-8c8e-0e8877efa6b7",
   "metadata": {},
   "outputs": [],
   "source": [
    "# i want to count the no of elements in the list"
   ]
  },
  {
   "cell_type": "code",
   "execution_count": 19,
   "id": "a39d91e2-e4c7-450d-8c79-3b569b6d4869",
   "metadata": {},
   "outputs": [
    {
     "data": {
      "text/plain": [
       "6"
      ]
     },
     "execution_count": 19,
     "metadata": {},
     "output_type": "execute_result"
    }
   ],
   "source": [
    "len(cars)"
   ]
  },
  {
   "cell_type": "code",
   "execution_count": null,
   "id": "c2322d7f-c8c4-48df-9c38-6aa9f25a8666",
   "metadata": {},
   "outputs": [],
   "source": [
    "# req : i want to print the list in the A-Z, Z-A"
   ]
  },
  {
   "cell_type": "code",
   "execution_count": null,
   "id": "2f520525-32c4-44c6-bd7c-8f731d963fa3",
   "metadata": {},
   "outputs": [],
   "source": [
    "cars.reverse()"
   ]
  },
  {
   "cell_type": "code",
   "execution_count": 20,
   "id": "194f5523-70ce-48c2-a89d-0725b3fe727e",
   "metadata": {},
   "outputs": [
    {
     "name": "stdout",
     "output_type": "stream",
     "text": [
      "['bmw', 'tata', 'suzuki', 'audi', 'toyota', 'benz']\n"
     ]
    }
   ],
   "source": [
    "print(cars) # A-Z order"
   ]
  },
  {
   "cell_type": "code",
   "execution_count": null,
   "id": "1c02ad51-4f6e-42f2-96f9-c94ceb3158e9",
   "metadata": {},
   "outputs": [],
   "source": [
    "# is used for commenting the code."
   ]
  },
  {
   "cell_type": "code",
   "execution_count": null,
   "id": "999e79c4-394f-432a-afed-2731cb4ef9e5",
   "metadata": {},
   "outputs": [],
   "source": []
  },
  {
   "cell_type": "code",
   "execution_count": null,
   "id": "f6e2daef-6718-4541-8199-b630d11b7672",
   "metadata": {},
   "outputs": [],
   "source": [
    "introduction to slicing : "
   ]
  },
  {
   "cell_type": "code",
   "execution_count": null,
   "id": "599ca5b8-3e53-4c9a-a73f-4348ae27a166",
   "metadata": {},
   "outputs": [],
   "source": []
  },
  {
   "cell_type": "code",
   "execution_count": 25,
   "id": "03d81651-431e-410c-8071-0964adf59d5c",
   "metadata": {},
   "outputs": [],
   "source": [
    "students = ['ankita','arpita','bhushan','bhanu','chandra','cynthya','danish']"
   ]
  },
  {
   "cell_type": "code",
   "execution_count": 26,
   "id": "50ccf967-13cc-403c-ba1d-453cdfd6170a",
   "metadata": {},
   "outputs": [
    {
     "name": "stdout",
     "output_type": "stream",
     "text": [
      "['ankita', 'arpita', 'bhushan', 'bhanu', 'chandra', 'cynthya', 'danish']\n"
     ]
    }
   ],
   "source": [
    "print(students)"
   ]
  },
  {
   "cell_type": "code",
   "execution_count": null,
   "id": "cf6b9a42-9ec5-46b4-91c3-37bb877157e5",
   "metadata": {},
   "outputs": [],
   "source": [
    "# genral syntax for slicing :"
   ]
  },
  {
   "cell_type": "code",
   "execution_count": null,
   "id": "4baef4d0-fc13-4b2c-9ac8-16e38c2bb350",
   "metadata": {},
   "outputs": [],
   "source": [
    "[start_value:stop_value:step_count]"
   ]
  },
  {
   "cell_type": "code",
   "execution_count": null,
   "id": "a9b7946b-556d-476d-934b-4631ea6adb6a",
   "metadata": {},
   "outputs": [],
   "source": [
    "Note : stope is always exclusive, to include the stop value increment the index by +1."
   ]
  },
  {
   "cell_type": "code",
   "execution_count": null,
   "id": "b01cab03-15dc-4de6-a2bf-2ea53cda1bc2",
   "metadata": {},
   "outputs": [],
   "source": []
  },
  {
   "cell_type": "code",
   "execution_count": null,
   "id": "b1040cee-81ff-4027-8acd-8ed58d1317c8",
   "metadata": {},
   "outputs": [],
   "source": [
    "# req : i want to include anika and arpita in the slice."
   ]
  },
  {
   "cell_type": "code",
   "execution_count": 27,
   "id": "887d279b-85e5-4af2-be3a-04f3e7857700",
   "metadata": {},
   "outputs": [
    {
     "name": "stdout",
     "output_type": "stream",
     "text": [
      "['ankita']\n"
     ]
    }
   ],
   "source": [
    "print(students[0:1])"
   ]
  },
  {
   "cell_type": "code",
   "execution_count": 28,
   "id": "f5cc6cf3-f391-4f79-a298-6f612ebf59c5",
   "metadata": {},
   "outputs": [
    {
     "name": "stdout",
     "output_type": "stream",
     "text": [
      "['ankita', 'arpita']\n"
     ]
    }
   ],
   "source": [
    "print(students[0:2])"
   ]
  },
  {
   "cell_type": "code",
   "execution_count": null,
   "id": "1690af6a-6ec2-445d-84c1-94c1015682cb",
   "metadata": {},
   "outputs": [],
   "source": [
    "# req : Bhushan and Bhanu"
   ]
  },
  {
   "cell_type": "code",
   "execution_count": 29,
   "id": "7e57d43c-be0c-4a7c-9c4b-cf88fb1df811",
   "metadata": {},
   "outputs": [
    {
     "name": "stdout",
     "output_type": "stream",
     "text": [
      "['bhushan', 'bhanu']\n"
     ]
    }
   ],
   "source": [
    "print(students[2:4])"
   ]
  },
  {
   "cell_type": "code",
   "execution_count": null,
   "id": "62688c44-c79c-4a74-9d54-ebd481d6b210",
   "metadata": {},
   "outputs": [],
   "source": []
  },
  {
   "cell_type": "code",
   "execution_count": 30,
   "id": "c6aaa979-3eb3-4c2c-b48d-9142f228cdf9",
   "metadata": {},
   "outputs": [
    {
     "name": "stdout",
     "output_type": "stream",
     "text": [
      "['ankita', 'bhushan', 'chandra', 'danish']\n"
     ]
    }
   ],
   "source": [
    "print(students[0:7:2])"
   ]
  },
  {
   "cell_type": "code",
   "execution_count": 31,
   "id": "a2122424-be7b-4147-b7e2-23b9a65c4f82",
   "metadata": {},
   "outputs": [
    {
     "name": "stdout",
     "output_type": "stream",
     "text": [
      "['ankita', 'arpita', 'bhushan', 'bhanu', 'chandra', 'cynthya', 'danish']\n"
     ]
    }
   ],
   "source": [
    "print(students)"
   ]
  },
  {
   "cell_type": "code",
   "execution_count": null,
   "id": "5f5ab9ba-647b-4f93-8cdd-455efd0263d3",
   "metadata": {},
   "outputs": [],
   "source": [
    "introduction to tuple datatype :"
   ]
  },
  {
   "cell_type": "code",
   "execution_count": null,
   "id": "a0d133d9-de61-4b12-a229-df5ae7c2be99",
   "metadata": {},
   "outputs": [],
   "source": [
    "defination : An immutable list is called as a tuple.\n",
    "\n",
    "classification : It is classified as in immutable datatype\n",
    "\n",
    "how to define the tuple datatype : ( )"
   ]
  },
  {
   "cell_type": "code",
   "execution_count": null,
   "id": "7ae8e077-178e-474d-b3b5-1b51def0ac00",
   "metadata": {},
   "outputs": [],
   "source": []
  },
  {
   "cell_type": "code",
   "execution_count": 33,
   "id": "2a8185ae-bd0b-4620-a577-7cd704594fa7",
   "metadata": {},
   "outputs": [],
   "source": [
    "dimensions = (20, 50)"
   ]
  },
  {
   "cell_type": "code",
   "execution_count": 34,
   "id": "177fc15a-a29f-4172-9661-f1b4518d454d",
   "metadata": {},
   "outputs": [
    {
     "name": "stdout",
     "output_type": "stream",
     "text": [
      "(20, 50)\n"
     ]
    }
   ],
   "source": [
    "print(dimensions)"
   ]
  },
  {
   "cell_type": "code",
   "execution_count": 35,
   "id": "ef8f0bd1-f818-41a9-9024-fb9ee067941a",
   "metadata": {},
   "outputs": [
    {
     "data": {
      "text/plain": [
       "tuple"
      ]
     },
     "execution_count": 35,
     "metadata": {},
     "output_type": "execute_result"
    }
   ],
   "source": [
    "type(dimensions)"
   ]
  },
  {
   "cell_type": "code",
   "execution_count": 36,
   "id": "3dde868c-631a-48ee-b6fe-0077e5a5ed80",
   "metadata": {},
   "outputs": [
    {
     "ename": "TypeError",
     "evalue": "'tuple' object does not support item assignment",
     "output_type": "error",
     "traceback": [
      "\u001b[1;31m---------------------------------------------------------------------------\u001b[0m",
      "\u001b[1;31mTypeError\u001b[0m                                 Traceback (most recent call last)",
      "Cell \u001b[1;32mIn[36], line 1\u001b[0m\n\u001b[1;32m----> 1\u001b[0m dimensions[\u001b[38;5;241m0\u001b[39m] \u001b[38;5;241m=\u001b[39m \u001b[38;5;241m30\u001b[39m\n",
      "\u001b[1;31mTypeError\u001b[0m: 'tuple' object does not support item assignment"
     ]
    }
   ],
   "source": [
    "dimensions[0] = 30"
   ]
  },
  {
   "cell_type": "code",
   "execution_count": 37,
   "id": "dd524391-36fe-4b2a-ae12-a3f2ea5a1177",
   "metadata": {},
   "outputs": [
    {
     "name": "stdout",
     "output_type": "stream",
     "text": [
      "50\n"
     ]
    }
   ],
   "source": [
    "print(dimensions[1])"
   ]
  },
  {
   "cell_type": "code",
   "execution_count": null,
   "id": "60b502ca-9e94-429c-8b00-8118866a2fc1",
   "metadata": {},
   "outputs": [],
   "source": [
    "looping statements"
   ]
  }
 ],
 "metadata": {
  "kernelspec": {
   "display_name": "Python [conda env:base] *",
   "language": "python",
   "name": "conda-base-py"
  },
  "language_info": {
   "codemirror_mode": {
    "name": "ipython",
    "version": 3
   },
   "file_extension": ".py",
   "mimetype": "text/x-python",
   "name": "python",
   "nbconvert_exporter": "python",
   "pygments_lexer": "ipython3",
   "version": "3.13.5"
  }
 },
 "nbformat": 4,
 "nbformat_minor": 5
}
