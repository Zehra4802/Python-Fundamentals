{
 "cells": [
  {
   "cell_type": "code",
   "execution_count": null,
   "id": "74e9c168-71cd-4358-b010-7986bb22ced3",
   "metadata": {},
   "outputs": [],
   "source": [
    "introduction to dictionaries :"
   ]
  },
  {
   "cell_type": "code",
   "execution_count": null,
   "id": "8b47bea4-bab2-4a30-90cc-082622f25018",
   "metadata": {},
   "outputs": [],
   "source": [
    "Defination : A dictionary is a combination of key, value pairs.\n",
    "\n",
    "Classification : It is classified as a mutable datatype\n",
    "\n",
    "how to define the dictionary : { } # curly brackets / flower brackets"
   ]
  },
  {
   "cell_type": "code",
   "execution_count": null,
   "id": "0bc4aafd-825b-4514-a6d4-662e9ea68f1a",
   "metadata": {},
   "outputs": [],
   "source": []
  },
  {
   "cell_type": "code",
   "execution_count": null,
   "id": "b5978911-e69e-4ba8-a237-5a24f559fd68",
   "metadata": {},
   "outputs": [],
   "source": [
    "# req : i want to design a alien game."
   ]
  },
  {
   "cell_type": "code",
   "execution_count": 17,
   "id": "53aee5d2-5b41-4f2b-8414-4d1e1b5b33bd",
   "metadata": {},
   "outputs": [],
   "source": [
    "alien = {'color': 'green', 'points':'5'}"
   ]
  },
  {
   "cell_type": "code",
   "execution_count": 18,
   "id": "ebac1b43-7a59-4a23-b1f1-52273f57310f",
   "metadata": {},
   "outputs": [
    {
     "name": "stdout",
     "output_type": "stream",
     "text": [
      "{'color': 'green', 'points': '5'}\n"
     ]
    }
   ],
   "source": [
    "print(alien)\n"
   ]
  },
  {
   "cell_type": "code",
   "execution_count": 19,
   "id": "9c9d2af0-ba0f-4661-9091-51cefa69a3df",
   "metadata": {},
   "outputs": [
    {
     "data": {
      "text/plain": [
       "dict"
      ]
     },
     "execution_count": 19,
     "metadata": {},
     "output_type": "execute_result"
    }
   ],
   "source": [
    "type(alien)"
   ]
  },
  {
   "cell_type": "code",
   "execution_count": 20,
   "id": "6fd8a4e9-1806-4cbf-b011-f5524e71fe5b",
   "metadata": {},
   "outputs": [],
   "source": [
    "# dictionary is written as dict"
   ]
  },
  {
   "cell_type": "code",
   "execution_count": 21,
   "id": "17205cf6-6d2e-4ed4-af9e-d2290fd9b890",
   "metadata": {},
   "outputs": [],
   "source": [
    "# req : i want to add the start_position of the alien"
   ]
  },
  {
   "cell_type": "code",
   "execution_count": 22,
   "id": "248336c4-d425-41e8-9350-cdd902e9e1af",
   "metadata": {},
   "outputs": [],
   "source": [
    "alien[\"start_position\"] = \"level\""
   ]
  },
  {
   "cell_type": "code",
   "execution_count": 23,
   "id": "f7cc2e15-4a18-4324-9423-28a57ffb689f",
   "metadata": {},
   "outputs": [
    {
     "name": "stdout",
     "output_type": "stream",
     "text": [
      "{'color': 'green', 'points': '5', 'start_position': 'level'}\n"
     ]
    }
   ],
   "source": [
    "print(alien)"
   ]
  },
  {
   "cell_type": "code",
   "execution_count": null,
   "id": "8cb8cc21-6784-4744-a934-85ad085dadec",
   "metadata": {},
   "outputs": [],
   "source": [
    "note : In the dictionary keys will be acting as indexs"
   ]
  },
  {
   "cell_type": "code",
   "execution_count": 25,
   "id": "146155b5-957f-4abd-8b1d-b26f39199fbb",
   "metadata": {},
   "outputs": [],
   "source": [
    "# req : i want to know the color of the alien.....?"
   ]
  },
  {
   "cell_type": "code",
   "execution_count": 26,
   "id": "ef6e9ba4-f999-4789-b596-7b558fbb2147",
   "metadata": {},
   "outputs": [
    {
     "ename": "KeyError",
     "evalue": "0",
     "output_type": "error",
     "traceback": [
      "\u001b[1;31m---------------------------------------------------------------------------\u001b[0m",
      "\u001b[1;31mKeyError\u001b[0m                                  Traceback (most recent call last)",
      "Cell \u001b[1;32mIn[26], line 1\u001b[0m\n\u001b[1;32m----> 1\u001b[0m \u001b[38;5;28mprint\u001b[39m(alien[\u001b[38;5;241m0\u001b[39m])\n",
      "\u001b[1;31mKeyError\u001b[0m: 0"
     ]
    }
   ],
   "source": [
    "print(alien[0])"
   ]
  },
  {
   "cell_type": "code",
   "execution_count": 27,
   "id": "446b0547-7258-4bdc-8818-9554af11461f",
   "metadata": {},
   "outputs": [
    {
     "name": "stdout",
     "output_type": "stream",
     "text": [
      "green\n"
     ]
    }
   ],
   "source": [
    "print(alien['color']) # give the key and get the value"
   ]
  },
  {
   "cell_type": "code",
   "execution_count": 28,
   "id": "8aeb8483-3533-4c9a-9472-36e66b830e46",
   "metadata": {},
   "outputs": [],
   "source": [
    "# req : how to modify the key value pairs in the dictionary..."
   ]
  },
  {
   "cell_type": "code",
   "execution_count": 29,
   "id": "1dacc460-49b7-4ab9-81ce-028ead0f656e",
   "metadata": {},
   "outputs": [],
   "source": [
    "# req : I want to modify the color of the alien from green to red..."
   ]
  },
  {
   "cell_type": "code",
   "execution_count": 30,
   "id": "12d44fa7-d1ab-42d9-b94b-b56dfd7954d4",
   "metadata": {},
   "outputs": [],
   "source": [
    "alien['color'] = 'red'"
   ]
  },
  {
   "cell_type": "code",
   "execution_count": 31,
   "id": "b4d51422-de17-49bf-966d-35a45a0f091f",
   "metadata": {},
   "outputs": [
    {
     "name": "stdout",
     "output_type": "stream",
     "text": [
      "{'color': 'red', 'points': '5', 'start_position': 'level'}\n"
     ]
    }
   ],
   "source": [
    "print(alien)"
   ]
  },
  {
   "cell_type": "code",
   "execution_count": null,
   "id": "60d56ea7-0177-49ed-9ab8-3466298427b1",
   "metadata": {},
   "outputs": [],
   "source": []
  },
  {
   "cell_type": "code",
   "execution_count": 32,
   "id": "572cf1d4-dbe7-427b-ab4c-5480bd49a684",
   "metadata": {},
   "outputs": [],
   "source": [
    "# req : i want to create the facebook user account."
   ]
  },
  {
   "cell_type": "code",
   "execution_count": null,
   "id": "8c536045-555a-42bd-bc5c-a9fc87655ba1",
   "metadata": {},
   "outputs": [],
   "source": []
  },
  {
   "cell_type": "code",
   "execution_count": 33,
   "id": "aafc37d1-1ff7-402f-b4d1-20ec977cb75d",
   "metadata": {},
   "outputs": [],
   "source": [
    "user_account = {'Firstname':'code','lastname':'training','username':'codetrainingAcademy','dob':'01-01-2020','pwd':'54321'}"
   ]
  },
  {
   "cell_type": "code",
   "execution_count": 34,
   "id": "7552d95b-d7b2-4572-9511-ec3001a06cc8",
   "metadata": {},
   "outputs": [
    {
     "name": "stdout",
     "output_type": "stream",
     "text": [
      "{'Firstname': 'code', 'lastname': 'training', 'username': 'codetrainingAcademy', 'dob': '01-01-2020', 'pwd': '54321'}\n"
     ]
    }
   ],
   "source": [
    "print(user_account)"
   ]
  },
  {
   "cell_type": "code",
   "execution_count": null,
   "id": "af269875-127d-482a-9b07-b4883c77d9a3",
   "metadata": {},
   "outputs": [],
   "source": []
  },
  {
   "cell_type": "code",
   "execution_count": 35,
   "id": "07a442a2-01b8-4e66-bb55-7bf41cd1aeef",
   "metadata": {},
   "outputs": [],
   "source": [
    "# how to delete the key value pairs "
   ]
  },
  {
   "cell_type": "code",
   "execution_count": 36,
   "id": "3b3c0092-ae6e-4712-bc7c-ce72cbd40077",
   "metadata": {},
   "outputs": [],
   "source": [
    "# req : i want to delete the lastname "
   ]
  },
  {
   "cell_type": "code",
   "execution_count": 37,
   "id": "c070d541-7ef9-4f6f-9f19-a5cfb7a93478",
   "metadata": {},
   "outputs": [],
   "source": [
    "del user_account['lastname']"
   ]
  },
  {
   "cell_type": "code",
   "execution_count": 38,
   "id": "81b2482b-31ec-430a-8711-fcd1dedd13dc",
   "metadata": {},
   "outputs": [
    {
     "name": "stdout",
     "output_type": "stream",
     "text": [
      "{'Firstname': 'code', 'username': 'codetrainingAcademy', 'dob': '01-01-2020', 'pwd': '54321'}\n"
     ]
    }
   ],
   "source": [
    "print(user_account)"
   ]
  },
  {
   "cell_type": "code",
   "execution_count": null,
   "id": "39ad088c-d620-409c-8856-3f9cd24a91a7",
   "metadata": {},
   "outputs": [],
   "source": []
  },
  {
   "cell_type": "code",
   "execution_count": null,
   "id": "6933a92c-9441-4edb-9112-0510fc351421",
   "metadata": {},
   "outputs": [],
   "source": [
    "introduction to looping statements :"
   ]
  },
  {
   "cell_type": "code",
   "execution_count": null,
   "id": "738e7674-25d3-4bb6-b454-29f454303eb0",
   "metadata": {},
   "outputs": [],
   "source": []
  },
  {
   "cell_type": "code",
   "execution_count": 40,
   "id": "97c3c219-5101-4074-96e2-0ad027a045ad",
   "metadata": {},
   "outputs": [],
   "source": [
    "students = ['durga','dinesh','kavya','noor','raza','abid','joseph']"
   ]
  },
  {
   "cell_type": "code",
   "execution_count": 41,
   "id": "0f01456f-e593-4381-af36-2c3acfb6939a",
   "metadata": {},
   "outputs": [
    {
     "name": "stdout",
     "output_type": "stream",
     "text": [
      "keep up the good work, Durga\n"
     ]
    }
   ],
   "source": [
    "print(f\"keep up the good work, {students[0].title()}\")"
   ]
  },
  {
   "cell_type": "code",
   "execution_count": 42,
   "id": "24b8d118-69ba-4033-a6d7-17cfbdbeb93e",
   "metadata": {},
   "outputs": [
    {
     "name": "stdout",
     "output_type": "stream",
     "text": [
      "keep up the good work, Dinesh\n"
     ]
    }
   ],
   "source": [
    "print(f\"keep up the good work, {students[1].title()}\")"
   ]
  },
  {
   "cell_type": "code",
   "execution_count": 43,
   "id": "608d8ccd-1d51-4d6f-a869-c6708f5916b9",
   "metadata": {},
   "outputs": [
    {
     "name": "stdout",
     "output_type": "stream",
     "text": [
      "keep up the good work, Kavya\n"
     ]
    }
   ],
   "source": [
    "print(f\"keep up the good work, {students[2].title()}\")"
   ]
  },
  {
   "cell_type": "code",
   "execution_count": null,
   "id": "2a202920-f3b2-4eaa-a69f-317f2d75db19",
   "metadata": {},
   "outputs": [],
   "source": [
    "introduction to for loop :"
   ]
  },
  {
   "cell_type": "code",
   "execution_count": null,
   "id": "f5894c8a-fd4c-4e43-942e-e6a1335d1462",
   "metadata": {},
   "outputs": [],
   "source": [
    "# General syntax of for loop :\n",
    "\n",
    "for tempvar in mainvar:\n",
    "    print(tempvar)"
   ]
  },
  {
   "cell_type": "code",
   "execution_count": 46,
   "id": "839d6823-1824-4f92-be61-0dd3611aa91e",
   "metadata": {},
   "outputs": [
    {
     "name": "stdout",
     "output_type": "stream",
     "text": [
      "keep up the good work, Durga\n",
      "keep up the good work, Dinesh\n",
      "keep up the good work, Kavya\n",
      "keep up the good work, Noor\n",
      "keep up the good work, Raza\n",
      "keep up the good work, Abid\n",
      "keep up the good work, Joseph\n"
     ]
    }
   ],
   "source": [
    "for x in students:\n",
    "    print(f\"keep up the good work, {x.title()}\")"
   ]
  },
  {
   "cell_type": "code",
   "execution_count": 47,
   "id": "7a42e918-3b09-4cdd-a372-89c797c66e0d",
   "metadata": {},
   "outputs": [
    {
     "name": "stdout",
     "output_type": "stream",
     "text": [
      "durga\n",
      "dinesh\n",
      "kavya\n",
      "noor\n",
      "raza\n",
      "abid\n",
      "joseph\n"
     ]
    }
   ],
   "source": [
    "for a in students:\n",
    "    print(a)"
   ]
  },
  {
   "cell_type": "code",
   "execution_count": 48,
   "id": "2eb37e8d-c997-46b6-94a0-47ddfe136494",
   "metadata": {},
   "outputs": [
    {
     "ename": "IndentationError",
     "evalue": "expected an indented block after 'for' statement on line 1 (2441160030.py, line 2)",
     "output_type": "error",
     "traceback": [
      "\u001b[1;36m  Cell \u001b[1;32mIn[48], line 2\u001b[1;36m\u001b[0m\n\u001b[1;33m    print(a)\u001b[0m\n\u001b[1;37m    ^\u001b[0m\n\u001b[1;31mIndentationError\u001b[0m\u001b[1;31m:\u001b[0m expected an indented block after 'for' statement on line 1\n"
     ]
    }
   ],
   "source": [
    "for a in students:\n",
    "print(a)   "
   ]
  },
  {
   "cell_type": "code",
   "execution_count": 49,
   "id": "98407131-ed0f-42a5-b0de-09e532c9fe86",
   "metadata": {},
   "outputs": [
    {
     "name": "stdout",
     "output_type": "stream",
     "text": [
      "durga\n",
      "dinesh\n",
      "kavya\n",
      "noor\n",
      "raza\n",
      "abid\n",
      "joseph\n"
     ]
    }
   ],
   "source": [
    "for a in students:\n",
    "        print(a)"
   ]
  },
  {
   "cell_type": "code",
   "execution_count": null,
   "id": "b15c2f39-7c73-4612-a3ce-c5ccd03704f5",
   "metadata": {},
   "outputs": [],
   "source": []
  },
  {
   "cell_type": "code",
   "execution_count": null,
   "id": "23525ae2-1ea2-458c-951b-a662743a6a19",
   "metadata": {},
   "outputs": [],
   "source": []
  },
  {
   "cell_type": "code",
   "execution_count": null,
   "id": "79256519-3302-4ad0-b3d6-1eace8bad7ac",
   "metadata": {},
   "outputs": [],
   "source": []
  }
 ],
 "metadata": {
  "kernelspec": {
   "display_name": "Python [conda env:base] *",
   "language": "python",
   "name": "conda-base-py"
  },
  "language_info": {
   "codemirror_mode": {
    "name": "ipython",
    "version": 3
   },
   "file_extension": ".py",
   "mimetype": "text/x-python",
   "name": "python",
   "nbconvert_exporter": "python",
   "pygments_lexer": "ipython3",
   "version": "3.13.5"
  }
 },
 "nbformat": 4,
 "nbformat_minor": 5
}
