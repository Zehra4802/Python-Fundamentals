{
 "cells": [
  {
   "cell_type": "code",
   "execution_count": null,
   "id": "b6b3d269-32e1-4393-94ea-d551bfea762d",
   "metadata": {},
   "outputs": [],
   "source": [
    "looping statements :"
   ]
  },
  {
   "cell_type": "code",
   "execution_count": null,
   "id": "71b7f887-ed79-41d3-be83-e49c63657566",
   "metadata": {},
   "outputs": [],
   "source": [
    "for loop :"
   ]
  },
  {
   "cell_type": "code",
   "execution_count": null,
   "id": "407d477e-4243-4b82-a6f1-48c56fa66621",
   "metadata": {},
   "outputs": [],
   "source": [
    "Genral syntax :"
   ]
  },
  {
   "cell_type": "code",
   "execution_count": null,
   "id": "bffa1974-fd34-4ee6-8de4-8c7a14b8b3fc",
   "metadata": {},
   "outputs": [],
   "source": [
    "for tempvar in mainvar :\n",
    "        print(tempvar)"
   ]
  },
  {
   "cell_type": "code",
   "execution_count": 6,
   "id": "39ed8f62-59e2-45f8-b923-9c793ffb09ad",
   "metadata": {},
   "outputs": [],
   "source": [
    "students = ['akshay','bhavana','chandu','dinesh','ehsan']"
   ]
  },
  {
   "cell_type": "code",
   "execution_count": 7,
   "id": "fdd64fa1-0760-453c-9186-ec5a268368ff",
   "metadata": {},
   "outputs": [
    {
     "name": "stdout",
     "output_type": "stream",
     "text": [
      "['akshay', 'bhavana', 'chandu', 'dinesh', 'ehsan']\n"
     ]
    }
   ],
   "source": [
    "print(students)"
   ]
  },
  {
   "cell_type": "code",
   "execution_count": null,
   "id": "54cff271-be11-4142-a8a6-9534453e3ca1",
   "metadata": {},
   "outputs": [],
   "source": [
    "# req : i want to appreciate the above students for submitting the work on the daily basis."
   ]
  },
  {
   "cell_type": "code",
   "execution_count": 12,
   "id": "619d4f32-a9d4-473b-bdc9-ef3f107c9b86",
   "metadata": {},
   "outputs": [
    {
     "name": "stdout",
     "output_type": "stream",
     "text": [
      "keep up the good work, Akshay\n",
      "keep up the good work, Bhavana\n",
      "keep up the good work, Chandu\n",
      "keep up the good work, Dinesh\n",
      "keep up the good work, Ehsan\n"
     ]
    }
   ],
   "source": [
    "for a in students:\n",
    "     print(f\"keep up the good work, {a.title()}\")"
   ]
  },
  {
   "cell_type": "code",
   "execution_count": 13,
   "id": "0e7aca9a-09d3-4fd7-91eb-7a4ca44e17b9",
   "metadata": {},
   "outputs": [
    {
     "name": "stdout",
     "output_type": "stream",
     "text": [
      "keep up the good work, Akshay\n",
      "i am waiting to recieve your submission of today, Akshay\n",
      "keep up the good work, Bhavana\n",
      "i am waiting to recieve your submission of today, Bhavana\n",
      "keep up the good work, Chandu\n",
      "i am waiting to recieve your submission of today, Chandu\n",
      "keep up the good work, Dinesh\n",
      "i am waiting to recieve your submission of today, Dinesh\n",
      "keep up the good work, Ehsan\n",
      "i am waiting to recieve your submission of today, Ehsan\n"
     ]
    }
   ],
   "source": [
    "for a in students:\n",
    "    print(f\"keep up the good work, {a.title()}\")\n",
    "    print(f\"i am waiting to recieve your submission of today, {a.title()}\")"
   ]
  },
  {
   "cell_type": "code",
   "execution_count": 14,
   "id": "20399147-e721-4518-ac0f-6bd31fdf2460",
   "metadata": {},
   "outputs": [
    {
     "name": "stdout",
     "output_type": "stream",
     "text": [
      "keep up the good work, Akshay\n",
      "i m waiting to recieve your submission of today, Akshay\n",
      "keep up the good work, Bhavana\n",
      "i m waiting to recieve your submission of today, Bhavana\n",
      "keep up the good work, Chandu\n",
      "i m waiting to recieve your submission of today, Chandu\n",
      "keep up the good work, Dinesh\n",
      "i m waiting to recieve your submission of today, Dinesh\n",
      "keep up the good work, Ehsan\n",
      "i m waiting to recieve your submission of today, Ehsan\n"
     ]
    }
   ],
   "source": [
    "for a in students:\n",
    "    print(f\"keep up the good work, {a.title()}\")\n",
    "    print(f\"i m waiting to recieve your submission of today, {a.title()}\")"
   ]
  },
  {
   "cell_type": "code",
   "execution_count": 16,
   "id": "a0478fe2-5fa2-4090-a337-8f150a4c3b31",
   "metadata": {},
   "outputs": [
    {
     "name": "stdout",
     "output_type": "stream",
     "text": [
      "keep up the good work, Akshay\n",
      "i am waiting to recieve your submission of today, Akshay\n",
      "keep up the good work, Bhavana\n",
      "i am waiting to recieve your submission of today, Bhavana\n",
      "keep up the good work, Chandu\n",
      "i am waiting to recieve your submission of today, Chandu\n",
      "keep up the good work, Dinesh\n",
      "i am waiting to recieve your submission of today, Dinesh\n",
      "keep up the good work, Ehsan\n",
      "i am waiting to recieve your submission of today, Ehsan\n",
      "Thankyou all for attending the python training sessions\n"
     ]
    }
   ],
   "source": [
    "for a in students: \n",
    "    print(f\"keep up the good work, {a.title()}\")\n",
    "    print(f\"i am waiting to recieve your submission of today, {a.title()}\")\n",
    "print(\"Thankyou all for attending the python training sessions\")"
   ]
  },
  {
   "cell_type": "code",
   "execution_count": null,
   "id": "352e2841-22df-4858-8d56-0052e47536a4",
   "metadata": {},
   "outputs": [],
   "source": []
  }
 ],
 "metadata": {
  "kernelspec": {
   "display_name": "Python [conda env:base] *",
   "language": "python",
   "name": "conda-base-py"
  },
  "language_info": {
   "codemirror_mode": {
    "name": "ipython",
    "version": 3
   },
   "file_extension": ".py",
   "mimetype": "text/x-python",
   "name": "python",
   "nbconvert_exporter": "python",
   "pygments_lexer": "ipython3",
   "version": "3.13.5"
  }
 },
 "nbformat": 4,
 "nbformat_minor": 5
}
