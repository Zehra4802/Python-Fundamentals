{
 "cells": [
  {
   "cell_type": "code",
   "execution_count": null,
   "id": "672e12d1-590a-4452-b3fa-0d979fff4190",
   "metadata": {},
   "outputs": [],
   "source": [
    "introduction to conditional statements :"
   ]
  },
  {
   "cell_type": "code",
   "execution_count": null,
   "id": "c720f053-ab7a-4a6a-a0fc-9dd79c3a1e9a",
   "metadata": {},
   "outputs": [],
   "source": [
    "if statements :"
   ]
  },
  {
   "cell_type": "code",
   "execution_count": 1,
   "id": "bb5c75f6-c95e-45b1-9e0f-51d79f59ddc3",
   "metadata": {},
   "outputs": [],
   "source": [
    "cars = ['audi','bmw', 'hundai', 'toyota', 'kia', 'suzuki', 'maruthi']"
   ]
  },
  {
   "cell_type": "code",
   "execution_count": 2,
   "id": "702d9df8-d4d7-4b2c-816e-5a8043833120",
   "metadata": {},
   "outputs": [
    {
     "name": "stdout",
     "output_type": "stream",
     "text": [
      "['audi', 'bmw', 'hundai', 'toyota', 'kia', 'suzuki', 'maruthi']\n"
     ]
    }
   ],
   "source": [
    "print(cars)"
   ]
  },
  {
   "cell_type": "code",
   "execution_count": 3,
   "id": "8122b8e5-eb91-4b0f-8866-ac18b6dc2ba8",
   "metadata": {},
   "outputs": [
    {
     "data": {
      "text/plain": [
       "list"
      ]
     },
     "execution_count": 3,
     "metadata": {},
     "output_type": "execute_result"
    }
   ],
   "source": [
    "type(cars)"
   ]
  },
  {
   "cell_type": "code",
   "execution_count": null,
   "id": "2f0bc7e7-7f70-4eea-a904-c2479308630f",
   "metadata": {},
   "outputs": [],
   "source": [
    "# req : i want to get suzuki in the capital letter and rest all the cars should be printed in title case"
   ]
  },
  {
   "cell_type": "code",
   "execution_count": 4,
   "id": "02c88d99-2131-4fad-a587-e942b8d386f6",
   "metadata": {},
   "outputs": [
    {
     "name": "stdout",
     "output_type": "stream",
     "text": [
      "Audi\n",
      "Bmw\n",
      "Hundai\n",
      "Toyota\n",
      "Kia\n",
      "SUZUKI\n",
      "Maruthi\n"
     ]
    }
   ],
   "source": [
    "for a in cars:\n",
    "    if a == 'suzuki' :\n",
    "        print(a.upper())\n",
    "    else:\n",
    "        print(a.title())"
   ]
  },
  {
   "cell_type": "code",
   "execution_count": null,
   "id": "8f70b0d8-a390-4149-a9ec-787eaeb91f83",
   "metadata": {},
   "outputs": [],
   "source": []
  },
  {
   "cell_type": "code",
   "execution_count": 11,
   "id": "52c0347e-5dae-49ca-a1fb-3f4ab59228bf",
   "metadata": {},
   "outputs": [],
   "source": [
    "# req : Building an voting application"
   ]
  },
  {
   "cell_type": "code",
   "execution_count": 8,
   "id": "3802baea-5e09-4ab5-9449-6a28a1adf197",
   "metadata": {},
   "outputs": [],
   "source": []
  },
  {
   "cell_type": "code",
   "execution_count": null,
   "id": "cb8426fd-eaa9-4c1f-b845-9f093745d2c7",
   "metadata": {},
   "outputs": [],
   "source": [
    "#age = 17\n",
    "\n",
    "age = 19"
   ]
  },
  {
   "cell_type": "code",
   "execution_count": 12,
   "id": "8dc442af-d1cc-41ce-8c43-7a7241175141",
   "metadata": {},
   "outputs": [
    {
     "data": {
      "text/plain": [
       "int"
      ]
     },
     "execution_count": 12,
     "metadata": {},
     "output_type": "execute_result"
    }
   ],
   "source": [
    "type(age)"
   ]
  },
  {
   "cell_type": "code",
   "execution_count": 13,
   "id": "f9b6c7c6-6392-459f-bf10-96cf6105b530",
   "metadata": {},
   "outputs": [
    {
     "name": "stdout",
     "output_type": "stream",
     "text": [
      "you are eligible to vote\n"
     ]
    }
   ],
   "source": [
    "if age >= 18:\n",
    "    print(\"you are eligible to vote\")\n",
    "else:\n",
    "    print(\"you are not eligible to vote, try next year\")"
   ]
  },
  {
   "cell_type": "code",
   "execution_count": null,
   "id": "85f55998-18f1-4462-ba5b-b5bb27988574",
   "metadata": {},
   "outputs": [],
   "source": []
  },
  {
   "cell_type": "code",
   "execution_count": null,
   "id": "b0390d90-6539-4452-a153-eb6b5f58c291",
   "metadata": {},
   "outputs": [],
   "source": [
    "understanding the concept of user input :"
   ]
  },
  {
   "cell_type": "code",
   "execution_count": null,
   "id": "3083743a-fbf3-432c-90a4-bbbe6d276582",
   "metadata": {},
   "outputs": [],
   "source": [
    "message = input(\"tell me something and i will repeat it back for you !!\")"
   ]
  },
  {
   "cell_type": "code",
   "execution_count": null,
   "id": "a02923bc-2e0a-4976-95b5-dcb662df9dfb",
   "metadata": {},
   "outputs": [],
   "source": [
    "Tell me something and i will repeat it back for you !! good eve"
   ]
  },
  {
   "cell_type": "code",
   "execution_count": null,
   "id": "91c14008-a367-4c82-9cc0-822782e8502e",
   "metadata": {},
   "outputs": [],
   "source": []
  },
  {
   "cell_type": "code",
   "execution_count": null,
   "id": "1b8e5f8a-511c-447f-a44b-13e2ff720f4d",
   "metadata": {},
   "outputs": [],
   "source": [
    "# i want to greet the user based on the input."
   ]
  },
  {
   "cell_type": "code",
   "execution_count": null,
   "id": "6f19adeb-d9f0-40d1-930d-a8a1404db64a",
   "metadata": {},
   "outputs": [],
   "source": [
    "name = input(\"please enter your name: \")"
   ]
  },
  {
   "cell_type": "code",
   "execution_count": null,
   "id": "7a5a5b6c-9f8c-46d3-b821-4f412114db32",
   "metadata": {},
   "outputs": [],
   "source": [
    "print(f\"\\nHello, {name}!\")"
   ]
  },
  {
   "cell_type": "code",
   "execution_count": null,
   "id": "9f6e47ef-7455-4035-a3ec-e80f8bea4891",
   "metadata": {},
   "outputs": [],
   "source": [
    "please enter your name: arshad "
   ]
  },
  {
   "cell_type": "code",
   "execution_count": null,
   "id": "75cad2f7-f7a4-408a-ab78-add059b66e90",
   "metadata": {},
   "outputs": [],
   "source": [
    "Hello, arshad!"
   ]
  },
  {
   "cell_type": "code",
   "execution_count": null,
   "id": "d22ec768-91c6-435d-b001-939ed48a80df",
   "metadata": {},
   "outputs": [],
   "source": [
    "age = input(\"How old are you?\")\n",
    "\n",
    "if age >= 18:\n",
    "    print(\"you are eligible to vote\")\n",
    "else:\n",
    "    print(\"you are not eligible to vote, try next year\")"
   ]
  },
  {
   "cell_type": "code",
   "execution_count": null,
   "id": "df6bd66c-f924-4f0c-8cb7-99d0e0d913ca",
   "metadata": {},
   "outputs": [],
   "source": [
    "age = input(\"how old are you?\")\n",
    "age = int(age) #i m converting the string to int\n",
    "\n",
    "if age >= 18:\n",
    "    print(\"you are eligible to vote\")\n",
    "else: \n",
    "    print(\"you are not eligible to vote, try next year\")"
   ]
  },
  {
   "cell_type": "code",
   "execution_count": null,
   "id": "e1566f1d-5f28-4ef8-bfa9-9af80fe62a68",
   "metadata": {},
   "outputs": [],
   "source": []
  },
  {
   "cell_type": "code",
   "execution_count": null,
   "id": "119fc1e7-de28-4145-a382-abe6f813633a",
   "metadata": {},
   "outputs": [],
   "source": [
    "# req : if given a number by the user, i want to find weather its even or odd!"
   ]
  },
  {
   "cell_type": "code",
   "execution_count": null,
   "id": "be213dfe-a91c-4b83-9303-e28272b49953",
   "metadata": {},
   "outputs": [],
   "source": [
    "number = input(\"Enter a number, i will tell you its even or odd!! \")\n",
    "\n",
    "number = int(number)\n",
    "\n",
    "if number%2 == 0:\n",
    "    print(f\"\\n the number {number} is even.\")\n",
    "else:\n",
    "    print(f\"\\n the number {number} is odd\")"
   ]
  },
  {
   "cell_type": "code",
   "execution_count": null,
   "id": "976d3620-8fec-4af8-b38d-0dd89f7b7fa9",
   "metadata": {},
   "outputs": [],
   "source": []
  },
  {
   "cell_type": "code",
   "execution_count": null,
   "id": "d447330d-7361-45e8-8e1e-3bbd56208955",
   "metadata": {},
   "outputs": [],
   "source": []
  }
 ],
 "metadata": {
  "kernelspec": {
   "display_name": "Python [conda env:base] *",
   "language": "python",
   "name": "conda-base-py"
  },
  "language_info": {
   "codemirror_mode": {
    "name": "ipython",
    "version": 3
   },
   "file_extension": ".py",
   "mimetype": "text/x-python",
   "name": "python",
   "nbconvert_exporter": "python",
   "pygments_lexer": "ipython3",
   "version": "3.13.5"
  }
 },
 "nbformat": 4,
 "nbformat_minor": 5
}
