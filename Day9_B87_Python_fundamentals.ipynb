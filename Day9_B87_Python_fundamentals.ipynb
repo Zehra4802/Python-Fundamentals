{
 "cells": [
  {
   "cell_type": "code",
   "execution_count": null,
   "id": "9f8ccf73-149d-438c-9eba-b21f49c76a7f",
   "metadata": {},
   "outputs": [],
   "source": [
    "Introduction to python functions :"
   ]
  },
  {
   "cell_type": "code",
   "execution_count": null,
   "id": "60b78d3c-5efe-40ec-8259-dc777e7c9031",
   "metadata": {},
   "outputs": [],
   "source": [
    "how to define a function : def for giving a function name use small case letters"
   ]
  },
  {
   "cell_type": "code",
   "execution_count": null,
   "id": "d85c8fe2-dd13-42bb-b33d-3e3083b140e0",
   "metadata": {},
   "outputs": [],
   "source": []
  },
  {
   "cell_type": "code",
   "execution_count": 3,
   "id": "7a1829ba-d6da-4814-bb30-c9d42046353c",
   "metadata": {},
   "outputs": [],
   "source": [
    "def greet(): # this part is called as define the function\n",
    "    \"\"\"this function will greet the user \"\"\" # this is doc string\n",
    "    print(\"Hello\")"
   ]
  },
  {
   "cell_type": "code",
   "execution_count": 4,
   "id": "deaa3cfc-1458-4849-9224-d1cef66bed6b",
   "metadata": {},
   "outputs": [
    {
     "name": "stdout",
     "output_type": "stream",
     "text": [
      "Hello\n"
     ]
    }
   ],
   "source": [
    "greet() # function call "
   ]
  },
  {
   "cell_type": "code",
   "execution_count": 5,
   "id": "6f5aea04-2033-4dfa-920b-564cae86e1be",
   "metadata": {},
   "outputs": [
    {
     "name": "stdout",
     "output_type": "stream",
     "text": [
      "Hello\n"
     ]
    }
   ],
   "source": [
    "greet()"
   ]
  },
  {
   "cell_type": "code",
   "execution_count": null,
   "id": "cee1a992-6c7a-428d-9f3f-ab3c73e0549e",
   "metadata": {},
   "outputs": [],
   "source": []
  },
  {
   "cell_type": "code",
   "execution_count": 6,
   "id": "6f1b7520-0f0b-491e-9177-a35f56e72da7",
   "metadata": {},
   "outputs": [],
   "source": [
    "def greet_user():\n",
    "    \"\"\"display a simple greeting\"\"\"\n",
    "    print(\"Hello\")"
   ]
  },
  {
   "cell_type": "code",
   "execution_count": 7,
   "id": "9aa9cad8-ce2f-4c67-aee0-68af78afb4ab",
   "metadata": {},
   "outputs": [
    {
     "name": "stdout",
     "output_type": "stream",
     "text": [
      "Hello\n"
     ]
    }
   ],
   "source": [
    "greet_user()"
   ]
  },
  {
   "cell_type": "code",
   "execution_count": null,
   "id": "a474260e-429d-463a-b683-91e14c6263a5",
   "metadata": {},
   "outputs": [],
   "source": []
  },
  {
   "cell_type": "code",
   "execution_count": 13,
   "id": "770e70a3-8f7a-49a5-af88-1b2be0663cc1",
   "metadata": {},
   "outputs": [],
   "source": [
    "def greet_user(username # parameters declaration # params\n",
    "    \"\"\"Display a simple greeting\"\"\"\n",
    "    print(f\"Hello, {username.title()}\")"
   ]
  },
  {
   "cell_type": "code",
   "execution_count": 14,
   "id": "61c0c869-60c0-469e-b48b-802a7141acec",
   "metadata": {},
   "outputs": [
    {
     "name": "stdout",
     "output_type": "stream",
     "text": [
      "Hello, Anil\n"
     ]
    }
   ],
   "source": [
    "greet_user('anil') # arguments passing # args"
   ]
  },
  {
   "cell_type": "code",
   "execution_count": 15,
   "id": "19e116ab-8eb6-4e6c-a56e-43091360d95d",
   "metadata": {},
   "outputs": [
    {
     "name": "stdout",
     "output_type": "stream",
     "text": [
      "Hello, Arshad\n"
     ]
    }
   ],
   "source": [
    "greet_user('arshad')"
   ]
  },
  {
   "cell_type": "code",
   "execution_count": null,
   "id": "8928ad68-7abd-456c-bf2f-13e625f92c65",
   "metadata": {},
   "outputs": [],
   "source": []
  },
  {
   "cell_type": "code",
   "execution_count": null,
   "id": "98f61740-0443-404c-840b-83ca8ad02cee",
   "metadata": {},
   "outputs": [],
   "source": [
    "Types of arguments :\n",
    "    1. positional arguments\n",
    "    2. keyword arguments\n",
    "    3. arbitary arguments"
   ]
  },
  {
   "cell_type": "code",
   "execution_count": null,
   "id": "e01b55b6-dba0-42bd-89e8-8375d9b26d7e",
   "metadata": {},
   "outputs": [],
   "source": []
  },
  {
   "cell_type": "code",
   "execution_count": 17,
   "id": "33746eb4-91b2-4d20-aa81-8cd543332c14",
   "metadata": {},
   "outputs": [],
   "source": [
    "# Define the function :\n",
    "\n",
    "# req : define a function with name describe_pet which takes two parameters : pet_name and animal_type"
   ]
  },
  {
   "cell_type": "code",
   "execution_count": 18,
   "id": "00ee5b3b-b497-4a4b-ac7b-61344f0756c1",
   "metadata": {},
   "outputs": [],
   "source": [
    "def describe_pet(animal_type,pet_name):\n",
    "    \"\"\"describe the information about the pet\"\"\"\n",
    "    print(f\"\\nI have a {animal_type}\")\n",
    "    print(f\"my {animal_type}'s name is {pet_name}\")"
   ]
  },
  {
   "cell_type": "code",
   "execution_count": 19,
   "id": "70ad4dbf-691b-4027-98dc-60eb65af23ad",
   "metadata": {},
   "outputs": [
    {
     "name": "stdout",
     "output_type": "stream",
     "text": [
      "\n",
      "I have a dog\n",
      "my dog's name is bruno\n"
     ]
    }
   ],
   "source": [
    "describe_pet('dog','bruno')"
   ]
  },
  {
   "cell_type": "code",
   "execution_count": 20,
   "id": "9b4ba652-ab59-4fc7-a5c5-fc815472fc77",
   "metadata": {},
   "outputs": [
    {
     "name": "stdout",
     "output_type": "stream",
     "text": [
      "\n",
      "I have a cat\n",
      "my cat's name is rex\n"
     ]
    }
   ],
   "source": [
    "describe_pet('cat','rex')"
   ]
  },
  {
   "cell_type": "code",
   "execution_count": 21,
   "id": "bf793bcf-5ed8-4a7a-abf9-e770a72eb1fc",
   "metadata": {},
   "outputs": [
    {
     "name": "stdout",
     "output_type": "stream",
     "text": [
      "\n",
      "I have a sweety\n",
      "my sweety's name is parrot\n"
     ]
    }
   ],
   "source": [
    "describe_pet('sweety','parrot') # parrot and sweety"
   ]
  },
  {
   "cell_type": "code",
   "execution_count": 22,
   "id": "9391b088-b406-4d9f-833a-7ed46efc8912",
   "metadata": {},
   "outputs": [
    {
     "name": "stdout",
     "output_type": "stream",
     "text": [
      "\n",
      "I have a parrot\n",
      "my parrot's name is sweety\n"
     ]
    }
   ],
   "source": [
    "describe_pet('parrot','sweety') # positional arguments"
   ]
  },
  {
   "cell_type": "code",
   "execution_count": 23,
   "id": "bb4bb2f9-090b-4ac4-b267-687e6ccb28a8",
   "metadata": {},
   "outputs": [
    {
     "name": "stdout",
     "output_type": "stream",
     "text": [
      "\n",
      "I have a parrot\n",
      "my parrot's name is sweety\n"
     ]
    }
   ],
   "source": [
    "describe_pet(pet_name = 'sweety',animal_type = 'parrot') # keyword arguments"
   ]
  },
  {
   "cell_type": "code",
   "execution_count": null,
   "id": "6ec850fb-e75d-4f67-897d-7c63906e4c12",
   "metadata": {},
   "outputs": [],
   "source": []
  },
  {
   "cell_type": "code",
   "execution_count": null,
   "id": "3b49cd3f-00f2-43ae-bd91-3a920f6115e4",
   "metadata": {},
   "outputs": [],
   "source": []
  }
 ],
 "metadata": {
  "kernelspec": {
   "display_name": "Python [conda env:base] *",
   "language": "python",
   "name": "conda-base-py"
  },
  "language_info": {
   "codemirror_mode": {
    "name": "ipython",
    "version": 3
   },
   "file_extension": ".py",
   "mimetype": "text/x-python",
   "name": "python",
   "nbconvert_exporter": "python",
   "pygments_lexer": "ipython3",
   "version": "3.13.5"
  }
 },
 "nbformat": 4,
 "nbformat_minor": 5
}
